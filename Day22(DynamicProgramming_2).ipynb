{
 "cells": [
  {
   "cell_type": "markdown",
   "metadata": {},
   "source": [
    "# minCost"
   ]
  },
  {
   "cell_type": "markdown",
   "metadata": {},
   "source": [
    "## -Recursive"
   ]
  },
  {
   "cell_type": "code",
   "execution_count": 2,
   "metadata": {},
   "outputs": [
    {
     "name": "stdout",
     "output_type": "stream",
     "text": [
      "30\n"
     ]
    }
   ],
   "source": [
    "import sys\n",
    "def minCost(cost,i,j,n,m):\n",
    "    #special case\n",
    "    if i==n-1 and j==m-1:\n",
    "        return cost[i][j]\n",
    "    if i>=n or j>=m:\n",
    "        return sys.maxsize\n",
    "    ans1=minCost(cost,i,j+1,n,m)\n",
    "    ans2=minCost(cost,i+1,j,n,m)\n",
    "    ans3=minCost(cost,i+1,j+1,n,m)\n",
    "    ans=cost[i][j]+min(ans1,ans2,ans3)\n",
    "    return ans\n",
    "\n",
    "cost=[[1,5,11],[8,13,12],[2,3,7],[15,16,18]]\n",
    "ans=minCost(cost,0,0,4,3)\n",
    "print(ans)\n",
    "    "
   ]
  },
  {
   "cell_type": "markdown",
   "metadata": {},
   "source": [
    "## -Recursive with memorization"
   ]
  },
  {
   "cell_type": "code",
   "execution_count": 4,
   "metadata": {},
   "outputs": [
    {
     "name": "stdout",
     "output_type": "stream",
     "text": [
      "30\n"
     ]
    }
   ],
   "source": [
    "import sys\n",
    "def minCost(cost,i,j,n,m,dp):\n",
    "    #special case\n",
    "    if i==n-1 and j==m-1:\n",
    "        return cost[i][j]\n",
    "    if i>=n or j>=m:\n",
    "        return sys.maxsize\n",
    "    \n",
    "    if dp[i][j+1]==sys.maxsize:\n",
    "        ans1=minCost(cost,i,j+1,n,m,dp)\n",
    "        dp[i][j+1]=ans1\n",
    "    else:\n",
    "        ans1=dp[i][j+1]\n",
    "        \n",
    "    if dp[i+1][j]==sys.maxsize:\n",
    "        ans2=minCost(cost,i+1,j,n,m,dp)\n",
    "        dp[i+1][j]=ans2\n",
    "    else:\n",
    "        ans2=dp[i+1][j]\n",
    "        \n",
    "    if dp[i+1][j+1]==sys.maxsize:\n",
    "        ans3=minCost(cost,i+1,j+1,n,m,dp)\n",
    "        dp[i+1][j+1]=ans3\n",
    "    else:\n",
    "        ans3=dp[i+1][j+1]\n",
    "        \n",
    "    ans=cost[i][j]+min(ans1,ans2,ans3)\n",
    "    return ans\n",
    "\n",
    "cost=[[1,5,11],[8,13,12],[2,3,7],[15,16,18]]\n",
    "n=4\n",
    "m=3\n",
    "dp=[[sys.maxsize for j in range(m+1)] for i in range(n+1)]\n",
    "ans=minCost(cost,0,0,4,3,dp)\n",
    "print(ans)\n",
    "    "
   ]
  },
  {
   "cell_type": "markdown",
   "metadata": {},
   "source": [
    "## -Iterative"
   ]
  },
  {
   "cell_type": "code",
   "execution_count": 2,
   "metadata": {},
   "outputs": [
    {
     "name": "stdout",
     "output_type": "stream",
     "text": [
      "30\n"
     ]
    }
   ],
   "source": [
    "import sys\n",
    "def minCost(cost,n,m):\n",
    "    dp=[[sys.maxsize for j in range(m+1)] for i in range(n+1)]\n",
    "    for i in range(n-1,-1,-1):\n",
    "        for j in range(m-1,-1,-1):\n",
    "            if i==n-1 and j==m-1:\n",
    "                dp[i][j]=cost[i][j]\n",
    "            else:\n",
    "                ans1=dp[i+1][j]\n",
    "                ans2=dp[i][j+1]\n",
    "                ans3=dp[i+1][j+1]\n",
    "                dp[i][j]=cost[i][j]+min(ans1,ans2,ans3)\n",
    "    return dp[0][0]\n",
    "\n",
    "cost=[[1,5,11],[8,13,12],[2,3,7],[15,16,18]]\n",
    "n=4\n",
    "m=3\n",
    "ans=minCost(cost,n,m)\n",
    "print(ans)\n",
    "    "
   ]
  },
  {
   "cell_type": "code",
   "execution_count": 13,
   "metadata": {},
   "outputs": [
    {
     "name": "stdout",
     "output_type": "stream",
     "text": [
      "4 3\n",
      "1 5 11\n",
      "8 13 12\n",
      "2 3 7 \n",
      "15 16 18\n",
      "[[1, 5, 11], [8, 13, 12], [2, 3, 7], [15, 16, 18]]\n",
      "4 3\n"
     ]
    }
   ],
   "source": [
    "m,n=map(int,input().split())\n",
    "cost= []\n",
    "for i in range(m):\n",
    "    lst=[int(i) for i in input().split()]\n",
    "    cost.append(lst)\n",
    "print(cost)\n",
    "print(m,n)"
   ]
  },
  {
   "cell_type": "markdown",
   "metadata": {},
   "source": [
    "# Bottom Up and Top Down Approach"
   ]
  },
  {
   "cell_type": "markdown",
   "metadata": {},
   "source": [
    "## Top Down solution of above code"
   ]
  },
  {
   "cell_type": "code",
   "execution_count": 4,
   "metadata": {},
   "outputs": [
    {
     "name": "stdout",
     "output_type": "stream",
     "text": [
      "30\n"
     ]
    }
   ],
   "source": [
    "import sys\n",
    "def minCostIterativeTD(cost,n,m):\n",
    "    dp=[[sys.maxsize for j in range(m+1)]for i in range(n+1)]\n",
    "    for i in range(1,n+1):\n",
    "        for j in range(1,m+1):\n",
    "            if i==1 and j==1:\n",
    "                dp[i][j]=cost[0][0]\n",
    "            else:\n",
    "                ans1=dp[i-1][j]\n",
    "                ans2=dp[i][j-1]\n",
    "                ans3=dp[i-1][j-1]\n",
    "                dp[i][j]=cost[i-1][j-1]+min(ans1,ans2,ans3)\n",
    "    return dp[n][m]\n",
    "cost=[[1,5,11],[8,13,12],[2,3,7],[15,16,18]]\n",
    "n=4\n",
    "m=3\n",
    "ans=minCostIterativeTD(cost,n,m)\n",
    "print(ans)\n",
    "    "
   ]
  },
  {
   "cell_type": "markdown",
   "metadata": {},
   "source": [
    "# Longest Common Subsequence(LCS)"
   ]
  },
  {
   "cell_type": "code",
   "execution_count": 5,
   "metadata": {},
   "outputs": [
    {
     "name": "stdout",
     "output_type": "stream",
     "text": [
      "4\n"
     ]
    }
   ],
   "source": [
    "def lcs(str1,str2,i,j):\n",
    "    if i==len(str1) or j==len(str2):\n",
    "        return 0\n",
    "    if str1[i]==str2[j]:\n",
    "        ans=1+lcs(str1,str2,i+1,j+1)\n",
    "    else:\n",
    "        ans1=lcs(str1,str2,i+1,j)\n",
    "        ans2=lcs(str1,str2,i,j+1)\n",
    "        ans=max(ans1,ans2)\n",
    "    return ans\n",
    "str1=\"abedgjc\"\n",
    "str2=\"bmdgsc\"\n",
    "ans=lcs(str1,str2,0,0)\n",
    "print(ans)"
   ]
  },
  {
   "cell_type": "markdown",
   "metadata": {},
   "source": [
    "### With memorization"
   ]
  },
  {
   "cell_type": "code",
   "execution_count": 7,
   "metadata": {},
   "outputs": [
    {
     "name": "stdout",
     "output_type": "stream",
     "text": [
      "4\n"
     ]
    }
   ],
   "source": [
    "def lcs(str1,str2,i,j,dp):\n",
    "    if i==len(str1) or j==len(str2):\n",
    "        return 0\n",
    "    if str1[i]==str2[j]:\n",
    "        if dp[i+1][j+1]==-1:\n",
    "            smallAns=lcs(str1,str2,i+1,j+1,dp)\n",
    "            dp[i+1][j+1]=smallAns\n",
    "            ans=1+smallAns\n",
    "        else:\n",
    "            ans=1+dp[i+1][j+1]\n",
    "    else:\n",
    "        if dp[i+1][j]==-1:\n",
    "            ans1=lcs(str1,str2,i+1,j,dp)\n",
    "            dp[i+1][j]=ans1\n",
    "        else:\n",
    "            ans1=dp[i+1][j]\n",
    "            \n",
    "        if dp[i][j+1]==-1:\n",
    "            ans2=lcs(str1,str2,i,j+1,dp)\n",
    "            dp[i][j+1]=ans2\n",
    "        else:\n",
    "            ans2=dp[i][j+1]  \n",
    "        ans=max(ans1,ans2)\n",
    "    return ans\n",
    "str1=\"abedgjc\"\n",
    "str2=\"bmdgsc\"\n",
    "n=len(str1)\n",
    "m=len(str2)\n",
    "dp=[[-1 for j in range(m+1)] for i in range(n+1)]\n",
    "ans=lcs(str1,str2,0,0,dp)\n",
    "print(ans)"
   ]
  },
  {
   "cell_type": "markdown",
   "metadata": {},
   "source": [
    "### iterative"
   ]
  },
  {
   "cell_type": "code",
   "execution_count": 12,
   "metadata": {},
   "outputs": [
    {
     "name": "stdout",
     "output_type": "stream",
     "text": [
      "4\n"
     ]
    }
   ],
   "source": [
    "def lcs(str1,str2):\n",
    "    n=len(str1)\n",
    "    m=len(str2)\n",
    "    dp=[[0 for j in range(m+1)] for i in range(n+1)]\n",
    "    for i in range(n-1,-1,-1):\n",
    "        for j in range(m-1,-1,-1):\n",
    "            if str1[i]==str2[j]:\n",
    "                dp[i][j]=1+dp[i+1][j+1]\n",
    "            else:\n",
    "                dp[i][j]=max(dp[i+1][j],dp[i][j+1])\n",
    "    return dp[0][0]\n",
    "                \n",
    "str1=\"abedgjc\"\n",
    "str2=\"bmdgsc\"\n",
    "ans=lcs(str1,str2)\n",
    "print(ans)"
   ]
  },
  {
   "cell_type": "markdown",
   "metadata": {},
   "source": [
    "# 0 1 Knapsack"
   ]
  },
  {
   "cell_type": "markdown",
   "metadata": {},
   "source": [
    "## Recursive"
   ]
  },
  {
   "cell_type": "code",
   "execution_count": 13,
   "metadata": {},
   "outputs": [
    {
     "name": "stdout",
     "output_type": "stream",
     "text": [
      "500\n"
     ]
    }
   ],
   "source": [
    "def knapsack(W,val,wt,n,i):\n",
    "    if i==n:\n",
    "        return 0\n",
    "    if wt[i]>W:\n",
    "        ans=knapsack(W,val,wt,n,i+1)\n",
    "    else:\n",
    "        #inclusion of ith item\n",
    "        ans1=val[i]+knapsack(W-wt[i],val,wt,n,i+1)\n",
    "        #exclusion of ith item\n",
    "        ans2=knapsack(W,val,wt,n,i+1)\n",
    "        ans=max(ans1,ans2)\n",
    "    return ans\n",
    "val=[200,300,100]\n",
    "wt=[20,25,30]\n",
    "W=50\n",
    "n=len(val)\n",
    "ans=knapsack(W,val,wt,n,0)\n",
    "print(ans)\n"
   ]
  },
  {
   "cell_type": "markdown",
   "metadata": {},
   "source": [
    "## Iterative"
   ]
  },
  {
   "cell_type": "code",
   "execution_count": 2,
   "metadata": {},
   "outputs": [
    {
     "name": "stdout",
     "output_type": "stream",
     "text": [
      "500\n"
     ]
    }
   ],
   "source": [
    "def knapsack(W,val,wt):\n",
    "    n=len(val)\n",
    "    dp=[[0 for j in range(W+1)] for i in range(n+1)]\n",
    "    for i in range(1,n+1):\n",
    "        for j in range(1,W+1):\n",
    "            if j<wt[i-1]:\n",
    "                ans=dp[i-1][j]\n",
    "            else:\n",
    "                ans1=val[i-1]+dp[i-1][j-wt[i-1]]\n",
    "                ans2=dp[i-1][j]\n",
    "                ans=max(ans1,ans2)\n",
    "            dp[i][j]=ans\n",
    "    return dp[n][W]\n",
    "val=[200,300,100]\n",
    "wt=[20,25,30]\n",
    "W=50\n",
    "ans=knapsack(W,val,wt)\n",
    "print(ans)"
   ]
  },
  {
   "cell_type": "markdown",
   "metadata": {},
   "source": [
    "# MAtrix Chain Multiplication"
   ]
  },
  {
   "cell_type": "code",
   "execution_count": 7,
   "metadata": {},
   "outputs": [],
   "source": [
    "#Matrix Chain Multiplication\n",
    "# Given a chain of matrices A1, A2, A3,.....An, you have to figure out the most efficient way to multiply these matrices i.e. determine where to place parentheses to minimise the number of multiplications.\n",
    "# You will be given an array p[] of size n + 1. Dimension of matrix Ai is p[i - 1]*p[i]. You need to find minimum number of multiplications needed to multiply the chain.\n",
    "# Input Format :\n",
    "# Line 1 : Integer n i.e. number of matrices\n",
    "# Line 2 : n + 1 integers i.e. elements of array p[] \n",
    "# Output Format :\n",
    "# Line 1 : Minimum number of multiplication needed\n",
    "# Constraints :\n",
    "# 1 <= n <= 100\n",
    "# Sample Input 1 :\n",
    "# 3\n",
    "# 10 15 20 25\n",
    "# Sample Output :\n",
    "# 8000\n",
    "# Sample Output Explanation :\n",
    "# There are two ways to multiply the chain - A1*(A2*A3) or (A1*A2)*A3.\n",
    "# If multiply in order A1*(A2*A3) then number of multiplications required are 15000.\n",
    "# If multiply in order (A1*A2)*A3 then number of multiplications required are 8000.\n",
    "# Thus minimum number of multiplications required are 8000\n",
    "\n"
   ]
  },
  {
   "cell_type": "code",
   "execution_count": 1,
   "metadata": {},
   "outputs": [
    {
     "name": "stdout",
     "output_type": "stream",
     "text": [
      "124\n"
     ]
    }
   ],
   "source": [
    "import sys\n",
    "def mcm(p,i,j):\n",
    "    if i==j:\n",
    "        return 0\n",
    "    min_value=sys.maxsize\n",
    "    for k in range(i,j):\n",
    "        ans1=mcm(p,i,k)\n",
    "        ans2=mcm(p,k+1,j)\n",
    "        mCost=p[i-1]*p[k]*p[j]\n",
    "        curr_value=ans1+ans2+mCost\n",
    "        min_value=min(min_value,curr_value)\n",
    "    return min_value\n",
    "p=[2,3,4,5,6]\n",
    "n=len(p)-1\n",
    "ans=mcm(p,1,n)\n",
    "print(ans)"
   ]
  },
  {
   "cell_type": "code",
   "execution_count": 8,
   "metadata": {},
   "outputs": [
    {
     "name": "stdout",
     "output_type": "stream",
     "text": [
      "124\n"
     ]
    }
   ],
   "source": [
    "import sys\n",
    "def mcm(p,i,j,dp):\n",
    "    if i==j:\n",
    "        return 0\n",
    "    min_value=sys.maxsize\n",
    "    for k in range(i,j):\n",
    "        if dp[i][k]==-1:\n",
    "            ans1=mcm(p,i,k,dp)\n",
    "            dp[i][k]=ans1\n",
    "        else:\n",
    "            ans1=dp[i][k]\n",
    "            \n",
    "        if dp[k+1][j]==-1:\n",
    "            ans2=mcm(p,k+1,j,dp)\n",
    "            dp[k+1][j]=ans2\n",
    "        else:\n",
    "            ans2=dp[k+1][j]\n",
    "        mCost=p[i-1]*p[k]*p[j]\n",
    "        curr_value=ans1+ans2+mCost\n",
    "        min_value=min(min_value,curr_value)\n",
    "    return min_value\n",
    "p=[2,3,4,5,6]\n",
    "n=len(p)-1\n",
    "dp=[[-1 for j in range(n+1)] for i in range(n+1)]\n",
    "ans=mcm(p,1,n,dp)\n",
    "print(ans)"
   ]
  },
  {
   "cell_type": "code",
   "execution_count": null,
   "metadata": {},
   "outputs": [],
   "source": [
    "import sys\n",
    "def mcm(p,n):\n",
    "    n+=1\n",
    "    m=[[sys.maxsize for i in range(0,n+1)] for j in range(0,n+1)]\n",
    "    for i in range(1,n):\n",
    "        m[i][i]=0\n",
    "    for l in range(2,n):\n",
    "        for i in range(1,n-1+1):\n",
    "            j=i+l-1\n",
    "            for k in range(i,j):\n",
    "                q=m[i][k]+m[k+1][j]+p[i-1]*p[k]*p[j]\n",
    "                if(q<m[i][j]):\n",
    "                    m[i][j]=q\n",
    "    return m[1][n-1]\n",
    "n=int(input())\n",
    "p=[int(i) for i in input().split()]\n",
    "print(mcm(p,n))"
   ]
  }
 ],
 "metadata": {
  "kernelspec": {
   "display_name": "Python 3",
   "language": "python",
   "name": "python3"
  },
  "language_info": {
   "codemirror_mode": {
    "name": "ipython",
    "version": 3
   },
   "file_extension": ".py",
   "mimetype": "text/x-python",
   "name": "python",
   "nbconvert_exporter": "python",
   "pygments_lexer": "ipython3",
   "version": "3.8.3"
  }
 },
 "nbformat": 4,
 "nbformat_minor": 4
}
