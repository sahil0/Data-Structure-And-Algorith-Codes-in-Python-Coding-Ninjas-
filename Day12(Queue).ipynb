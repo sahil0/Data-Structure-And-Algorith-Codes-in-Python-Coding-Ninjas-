{
 "cells": [
  {
   "cell_type": "code",
   "execution_count": 7,
   "metadata": {},
   "outputs": [
    {
     "name": "stdout",
     "output_type": "stream",
     "text": [
      "1\n",
      "2\n",
      "3\n",
      "4\n"
     ]
    },
    {
     "ename": "IndexError",
     "evalue": "list index out of range",
     "output_type": "error",
     "traceback": [
      "\u001b[1;31m---------------------------------------------------------------------------\u001b[0m",
      "\u001b[1;31mIndexError\u001b[0m                                Traceback (most recent call last)",
      "\u001b[1;32m<ipython-input-7-9757251e4744>\u001b[0m in \u001b[0;36m<module>\u001b[1;34m\u001b[0m\n\u001b[0;32m     28\u001b[0m \u001b[0mq\u001b[0m\u001b[1;33m.\u001b[0m\u001b[0menqueue\u001b[0m\u001b[1;33m(\u001b[0m\u001b[1;36m4\u001b[0m\u001b[1;33m)\u001b[0m\u001b[1;33m\u001b[0m\u001b[1;33m\u001b[0m\u001b[0m\n\u001b[0;32m     29\u001b[0m \u001b[1;32mwhile\u001b[0m\u001b[1;33m(\u001b[0m\u001b[0mq\u001b[0m\u001b[1;33m.\u001b[0m\u001b[0misEmpty\u001b[0m\u001b[1;33m(\u001b[0m\u001b[1;33m)\u001b[0m \u001b[1;32mis\u001b[0m \u001b[1;32mFalse\u001b[0m\u001b[1;33m)\u001b[0m\u001b[1;33m:\u001b[0m\u001b[1;33m\u001b[0m\u001b[1;33m\u001b[0m\u001b[0m\n\u001b[1;32m---> 30\u001b[1;33m     \u001b[0mprint\u001b[0m\u001b[1;33m(\u001b[0m\u001b[0mq\u001b[0m\u001b[1;33m.\u001b[0m\u001b[0mfront\u001b[0m\u001b[1;33m(\u001b[0m\u001b[1;33m)\u001b[0m\u001b[1;33m)\u001b[0m\u001b[1;33m\u001b[0m\u001b[1;33m\u001b[0m\u001b[0m\n\u001b[0m\u001b[0;32m     31\u001b[0m     \u001b[0mq\u001b[0m\u001b[1;33m.\u001b[0m\u001b[0mdequeue\u001b[0m\u001b[1;33m(\u001b[0m\u001b[1;33m)\u001b[0m\u001b[1;33m\u001b[0m\u001b[1;33m\u001b[0m\u001b[0m\n",
      "\u001b[1;32m<ipython-input-7-9757251e4744>\u001b[0m in \u001b[0;36mfront\u001b[1;34m(self)\u001b[0m\n\u001b[0;32m     17\u001b[0m         \u001b[1;32mif\u001b[0m \u001b[0mself\u001b[0m\u001b[1;33m.\u001b[0m\u001b[0m__count\u001b[0m\u001b[1;33m==\u001b[0m\u001b[1;36m0\u001b[0m\u001b[1;33m:\u001b[0m\u001b[1;33m\u001b[0m\u001b[1;33m\u001b[0m\u001b[0m\n\u001b[0;32m     18\u001b[0m             \u001b[1;32mreturn\u001b[0m \u001b[1;33m-\u001b[0m\u001b[1;36m1\u001b[0m\u001b[1;33m\u001b[0m\u001b[1;33m\u001b[0m\u001b[0m\n\u001b[1;32m---> 19\u001b[1;33m         \u001b[1;32mreturn\u001b[0m \u001b[0mself\u001b[0m\u001b[1;33m.\u001b[0m\u001b[0m__arr\u001b[0m\u001b[1;33m[\u001b[0m\u001b[0mself\u001b[0m\u001b[1;33m.\u001b[0m\u001b[0m__front\u001b[0m\u001b[1;33m]\u001b[0m\u001b[1;33m\u001b[0m\u001b[1;33m\u001b[0m\u001b[0m\n\u001b[0m\u001b[0;32m     20\u001b[0m     \u001b[1;32mdef\u001b[0m \u001b[0msize\u001b[0m\u001b[1;33m(\u001b[0m\u001b[0mself\u001b[0m\u001b[1;33m)\u001b[0m\u001b[1;33m:\u001b[0m\u001b[1;33m\u001b[0m\u001b[1;33m\u001b[0m\u001b[0m\n\u001b[0;32m     21\u001b[0m         \u001b[1;32mreturn\u001b[0m \u001b[0mself\u001b[0m\u001b[1;33m.\u001b[0m\u001b[0m__count\u001b[0m\u001b[1;33m\u001b[0m\u001b[1;33m\u001b[0m\u001b[0m\n",
      "\u001b[1;31mIndexError\u001b[0m: list index out of range"
     ]
    }
   ],
   "source": [
    "class QueueUsingArray:\n",
    "    def __init__(self):\n",
    "        self.__arr=[]\n",
    "        self.__count=0\n",
    "        self.__front=0\n",
    "    def enqueue(self,data):\n",
    "        self.__arr.append(data)\n",
    "        self.__count+=1\n",
    "    def dequeue(self):\n",
    "        if self.__count==0:\n",
    "            rerturn -1\n",
    "        element=self.__arr[self.__front]\n",
    "        self.__front+=1\n",
    "        self.__count+=1\n",
    "        return element\n",
    "    def front(self):\n",
    "        if self.__count==0:\n",
    "            return -1\n",
    "        return self.__arr[self.__front]\n",
    "    def size(self):\n",
    "        return self.__count\n",
    "    def isEmpty(self):\n",
    "        return self.size()==0\n",
    "q=QueueUsingArray()\n",
    "q.enqueue(1)\n",
    "q.enqueue(2)\n",
    "q.enqueue(3)\n",
    "q.enqueue(4)\n",
    "while(q.isEmpty() is False):\n",
    "    print(q.front())\n",
    "    q.dequeue()\n",
    "print(q.dequeue())"
   ]
  },
  {
   "cell_type": "markdown",
   "metadata": {},
   "source": [
    "# Queue using LL"
   ]
  },
  {
   "cell_type": "code",
   "execution_count": 13,
   "metadata": {},
   "outputs": [],
   "source": [
    "from sys import stdin\n",
    "\n",
    "\n",
    "#Following is the structure of the node class for a Singly Linked List\n",
    "class Node :\n",
    "\n",
    "    def __init__(self, data) :\n",
    "        self.data = data\n",
    "        self.next = None\n",
    "\n",
    "\n",
    "class Queue :\n",
    "    def __init__(self):\n",
    "        self.head=None\n",
    "        self.tail=None\n",
    "        self.count=0\n",
    "\n",
    "    '''----------------- Public Functions of Stack -----------------'''\n",
    "\n",
    "    def getSize(self) :\n",
    "        #Implement the getSize() function\n",
    "        return self.count\n",
    "\n",
    "    def isEmpty(self) :\n",
    "        #Implement the isEmpty() function\n",
    "        return self.getSize()==0\n",
    "\n",
    "\n",
    "\n",
    "    def enqueue(self, data) :\n",
    "        #Implement the enqueue(element) function\n",
    "        newNode=Node(data)\n",
    "        if self.head is None:\n",
    "            self.head=newNode\n",
    "        else:\n",
    "            self.tail.next=newNode\n",
    "        self.tail=newNode\n",
    "        self.count=self.count + 1\n",
    "\n",
    "    def dequeue(self) :\n",
    "        #Implement the dequeue() function\n",
    "        if self.head is None:\n",
    "            return -1\n",
    "        data=self.head.data\n",
    "        self.head=self.head.next\n",
    "        self.count=self.count-1\n",
    "        return data\n",
    "    def front(self) :\n",
    "        #Implement the front() function\n",
    "        if self.head is None:\n",
    "            return -1\n",
    "        data = self.head.data\n",
    "        return data"
   ]
  },
  {
   "cell_type": "code",
   "execution_count": 14,
   "metadata": {},
   "outputs": [
    {
     "name": "stdout",
     "output_type": "stream",
     "text": [
      "1\n",
      "2\n",
      "3\n",
      "4\n",
      "5\n"
     ]
    },
    {
     "data": {
      "text/plain": [
       "-1"
      ]
     },
     "execution_count": 14,
     "metadata": {},
     "output_type": "execute_result"
    }
   ],
   "source": [
    "q=Queue()\n",
    "q.enqueue(1)\n",
    "q.enqueue(2)\n",
    "q.enqueue(3)\n",
    "q.enqueue(4)\n",
    "q.enqueue(5)\n",
    "while q.isEmpty() is False:\n",
    "    print(q.dequeue())\n",
    "q.front()"
   ]
  },
  {
   "cell_type": "markdown",
   "metadata": {},
   "source": [
    "# Implement Queue using 2 stack"
   ]
  },
  {
   "cell_type": "code",
   "execution_count": 19,
   "metadata": {},
   "outputs": [
    {
     "name": "stdout",
     "output_type": "stream",
     "text": [
      "1\n",
      "2\n",
      "3\n",
      "4\n"
     ]
    }
   ],
   "source": [
    "#Following is the structure of the node class for a Singly Linked List\n",
    "\n",
    "\n",
    "\n",
    "class Queue :\n",
    "    def __init__(self):\n",
    "        self.s1=[]\n",
    "        self.s2=[]\n",
    "\n",
    "    '''----------------- Public Functions of Stack -----------------'''\n",
    "\n",
    "    def enqueue(self,data) :\n",
    "        #Implement the getSize() function\n",
    "        while (len(self.s1)!=0):\n",
    "            self.s2.append(self.s1.pop())\n",
    "        self.s1.append(data)\n",
    "        while (len(self.s2)!=0):\n",
    "            self.s1.append(self.s2.pop())\n",
    "        return \n",
    "    def dequeue(self) :\n",
    "        #Implement the dequeue() function\n",
    "        if(len(self.s1)==0):\n",
    "            return -1\n",
    "        return self.s1.pop()\n",
    "    def front(self) :\n",
    "        #Implement the front() function\n",
    "        if (len(self.s1) ==0):\n",
    "            return -1\n",
    "        return self.s1[-1]\n",
    "    def size(self) :\n",
    "        #Implement the getSize() function\n",
    "        return len(self.s1)\n",
    "    def isEmpty(self) :\n",
    "        #Implement the isEmpty() function\n",
    "        return self.size()==0\n",
    "q=Queue()\n",
    "q.enqueue(1)\n",
    "q.enqueue(2)\n",
    "q.enqueue(3)\n",
    "q.enqueue(4)\n",
    "while (q.isEmpty() is False):\n",
    "    print(q.front())\n",
    "    q.dequeue()\n",
    "    \n",
    "    \n",
    "    \n"
   ]
  },
  {
   "cell_type": "markdown",
   "metadata": {},
   "source": [
    "# Stack using two queue"
   ]
  },
  {
   "cell_type": "code",
   "execution_count": null,
   "metadata": {},
   "outputs": [],
   "source": [
    "class Stack :\n",
    "    def __init__(self):\n",
    "        self.s1=[]\n",
    "        self.s2=[]\n",
    "    def getSize(self) :\n",
    "        #Implement the getSize() function\n",
    "        return len(self.s1)\n",
    "\n",
    "    def isEmpty(self) :\n",
    "        return self.getSize()==0\n",
    "\n",
    "    def push(self, data) :\n",
    "        self.s1.append(data)\n",
    "    def pop(self) :\n",
    "        if len(self.s1)==0:\n",
    "            return -1\n",
    "        return self.s1.pop()\n",
    "    def top(self) :\n",
    "        if len(self.s1)==0:\n",
    "            return -1\n",
    "        return self.s1[-1]\n",
    "        \n",
    "q=Stack()\n",
    "q.push(1)\n",
    "q.push(2)\n",
    "q.push(3)\n",
    "q.push(4)\n",
    "while (q.isEmpty() is False):\n",
    "    print(q.pop())\n",
    "    \n",
    "    \n",
    "    "
   ]
  },
  {
   "cell_type": "markdown",
   "metadata": {},
   "source": [
    "# Reverse Queue\n"
   ]
  },
  {
   "cell_type": "raw",
   "metadata": {},
   "source": [
    "You have been given a queue that can store integers as the data. You are required to write a function that reverses the populated queue itself without using any other data structures.\n",
    "Example:\n",
    "Alt txt\n",
    "\n",
    "Alt txt\n",
    "\n",
    "Input Format:\n",
    "The first list of input contains an integer 't' denoting the number of test cases/queries to be run.\n",
    "Then the test cases follow.\n",
    "\n",
    "The first line input for each test case/query contains an integer N, denoting the total number of elements in the queue.\n",
    "\n",
    "The second line of input contains N integers separated by a single space, representing the order in which the elements are enqueued into the queue.\n",
    "Output Format:\n",
    "For each test case/query, the only line of output prints the order in which the queue elements are dequeued, all of them separated by a single space.\n",
    "\n",
    "Output for every test case/query will be printed on a new line. \n",
    "Note:\n",
    "You are not required to print the expected output explicitly, it has already been taken care of. Just make the changes in the input queue itself.\n",
    "Constraints:\n",
    "1 <= t <= 100\n",
    "1 <= N <= 10^4\n",
    "-2^31 <= data <= 2^31 - 1\n",
    "\n",
    "Time Limit: 1sec \n",
    "Sample Input 1:\n",
    "1\n",
    "6\n",
    "1 2 3 4 5 10\n",
    "Note:\n",
    "Here, 1 is at the front and 10 is at the rear of the queue.\n",
    "Sample Output 1:\n",
    "10 5 4 3 2 1\n",
    "Sample Input 2:\n",
    "2\n",
    "5\n",
    "2 8 15 1 10\n",
    "3\n",
    "10 20 30\n",
    "Sample Output 2:\n",
    "10 1 15 8 2 \n",
    "30 20 10 "
   ]
  },
  {
   "cell_type": "code",
   "execution_count": 5,
   "metadata": {},
   "outputs": [
    {
     "name": "stdout",
     "output_type": "stream",
     "text": [
      "6\n",
      "1 2 3 4 5 10\n",
      "10 5 4 3 2 1 \n"
     ]
    }
   ],
   "source": [
    "import queue\n",
    "def reverseQueue(inputQueue) :\n",
    "    stack=[]\n",
    "    while not inputQueue.empty():\n",
    "        stack.append(inputQueue.get())\n",
    "    while len(stack)!=0:\n",
    "        inputQueue.put(stack.pop())\n",
    "def takeInput():\n",
    "    n=int(input())\n",
    "    li=[int(x) for x in input().split()[:n]]    \n",
    "    q=queue.Queue()\n",
    "    for i in range(n):\n",
    "        q.put(li[i])\n",
    "    return q\n",
    "\n",
    "qu=takeInput()\n",
    "reverseQueue(qu)\n",
    "while not qu.empty():\n",
    "    print(qu.get(),end=' ')\n",
    "print()\n",
    "\n",
    "\n",
    "#1 2 3 4 5 10\n"
   ]
  },
  {
   "cell_type": "code",
   "execution_count": 9,
   "metadata": {},
   "outputs": [
    {
     "name": "stdout",
     "output_type": "stream",
     "text": [
      "[10, 5, 4, 3, 2, 1]\n"
     ]
    }
   ],
   "source": []
  },
  {
   "cell_type": "code",
   "execution_count": 1,
   "metadata": {},
   "outputs": [
    {
     "name": "stdout",
     "output_type": "stream",
     "text": [
      "6\n",
      "3\n",
      "1 2 3 4 5 10\n",
      "3 2 1 4 5 10 \n"
     ]
    }
   ],
   "source": [
    "import queue\n",
    "def reverseKElements(inputQueue, k) :\n",
    "    if (inputQueue.empty() == True or k > inputQueue.qsize()):  \n",
    "        return\n",
    "    if (k <= 0):  \n",
    "        return\n",
    "    stack=[]\n",
    "    for i in range(k):\n",
    "        stack.append(inputQueue.get())\n",
    "    while len(stack)!=0:\n",
    "        inputQueue.put(stack.pop())\n",
    "    for i in range(inputQueue.qsize()-k):\n",
    "        inputQueue.put(inputQueue.get())\n",
    "    return inputQueue\n",
    "        \n",
    "def takeInput():\n",
    "    n=int(input())\n",
    "    k=int(input())\n",
    "    li=[int(x) for x in input().split()[:n]]    \n",
    "    q=queue.Queue()\n",
    "    for i in range(n):\n",
    "        q.put(li[i])\n",
    "    return q,k\n",
    "\n",
    "qu,k=takeInput()\n",
    "reverseKElements(qu, k) \n",
    "while not qu.empty():\n",
    "    print(qu.get(),end=' ')\n",
    "print()\n",
    "\n",
    "\n",
    "#1 2 3 4 5 10\n"
   ]
  },
  {
   "cell_type": "code",
   "execution_count": 20,
   "metadata": {},
   "outputs": [
    {
     "ename": "SyntaxError",
     "evalue": "invalid syntax (<ipython-input-20-641145257c39>, line 2)",
     "output_type": "error",
     "traceback": [
      "\u001b[1;36m  File \u001b[1;32m\"<ipython-input-20-641145257c39>\"\u001b[1;36m, line \u001b[1;32m2\u001b[0m\n\u001b[1;33m    s[3::-1]+[::]\u001b[0m\n\u001b[1;37m              ^\u001b[0m\n\u001b[1;31mSyntaxError\u001b[0m\u001b[1;31m:\u001b[0m invalid syntax\n"
     ]
    }
   ],
   "source": []
  }
 ],
 "metadata": {
  "kernelspec": {
   "display_name": "Python 3",
   "language": "python",
   "name": "python3"
  },
  "language_info": {
   "codemirror_mode": {
    "name": "ipython",
    "version": 3
   },
   "file_extension": ".py",
   "mimetype": "text/x-python",
   "name": "python",
   "nbconvert_exporter": "python",
   "pygments_lexer": "ipython3",
   "version": "3.8.3"
  }
 },
 "nbformat": 4,
 "nbformat_minor": 4
}
