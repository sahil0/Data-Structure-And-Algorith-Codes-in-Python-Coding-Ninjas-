{
 "cells": [
  {
   "cell_type": "markdown",
   "metadata": {},
   "source": [
    "# Using Recursion Dynamic Programming"
   ]
  },
  {
   "cell_type": "code",
   "execution_count": 3,
   "metadata": {},
   "outputs": [
    {
     "name": "stdout",
     "output_type": "stream",
     "text": [
      "8\n",
      "21\n"
     ]
    }
   ],
   "source": [
    "def fibb(n,dp):\n",
    "    if n==0 or n==1:\n",
    "        return n\n",
    "    if dp[n-1]==-1:\n",
    "        ans1=fibb(n-1,dp)\n",
    "        dp[n-1]=ans1\n",
    "    else:\n",
    "        ans1=dp[n-1]\n",
    "    if dp[n-2]==-1:\n",
    "        ans2=fibb(n-2,dp)\n",
    "        dp[n-2]=ans2\n",
    "    else:\n",
    "        ans2=dp[n-2]\n",
    "    myAns=ans1+ans2\n",
    "    return myAns\n",
    "n=int(input())\n",
    "dp=[-1 for i in range(n+1)]\n",
    "ans=fibb(n,dp)\n",
    "print(ans)"
   ]
  },
  {
   "cell_type": "markdown",
   "metadata": {},
   "source": [
    "# Using Iterative Dynamic Programming"
   ]
  },
  {
   "cell_type": "code",
   "execution_count": 4,
   "metadata": {},
   "outputs": [
    {
     "name": "stdout",
     "output_type": "stream",
     "text": [
      "8\n",
      "21\n"
     ]
    }
   ],
   "source": [
    "def fibb(n):\n",
    "    dp=[0 for i in range(n+1)]\n",
    "    dp[0]=0\n",
    "    dp[1]=1\n",
    "    i=2\n",
    "    while i<=n:\n",
    "        dp[i]=dp[i-1]+dp[i-2]\n",
    "        i+=1\n",
    "    return dp[n]\n",
    "n=int(input())\n",
    "ans=fibb(n)\n",
    "print(ans)"
   ]
  },
  {
   "cell_type": "markdown",
   "metadata": {},
   "source": [
    "# Minimum step to 1"
   ]
  },
  {
   "cell_type": "markdown",
   "metadata": {},
   "source": [
    "## Using Recursive"
   ]
  },
  {
   "cell_type": "code",
   "execution_count": 13,
   "metadata": {},
   "outputs": [
    {
     "name": "stdout",
     "output_type": "stream",
     "text": [
      "8\n",
      "3\n"
     ]
    }
   ],
   "source": [
    "import sys\n",
    "def minStepsTo1(n):\n",
    "    if n==1:\n",
    "        return 0\n",
    "    ans1=sys.maxsize\n",
    "    if n%3==0:\n",
    "        ans1=minStepsTo1(n//3)\n",
    "    ans2=sys.maxsize\n",
    "    if n%2==0:\n",
    "        ans2=minStepsTo1(n//2)\n",
    "    ans3=minStepsTo1(n-1)\n",
    "    ans=1+min(ans1,ans2,ans3)\n",
    "    return ans\n",
    "n=int(input())\n",
    "ans=minStepsTo1(n)\n",
    "print(ans)"
   ]
  },
  {
   "cell_type": "markdown",
   "metadata": {},
   "source": [
    "## Using Iterative"
   ]
  },
  {
   "cell_type": "code",
   "execution_count": 16,
   "metadata": {},
   "outputs": [
    {
     "name": "stdout",
     "output_type": "stream",
     "text": [
      "7\n",
      "3\n"
     ]
    }
   ],
   "source": [
    "import sys\n",
    "sys.setrecursionlimit(100000)\n",
    "\n",
    "def minStepsTo1(n,dp):\n",
    "    if n==1:\n",
    "        return 0\n",
    "    \n",
    "    ans1=sys.maxsize\n",
    "    if n%3==0:\n",
    "        if dp[n//3]==-1:\n",
    "            ans1=minStepsTo1(n//3,dp)\n",
    "            dp[n//3]=ans1\n",
    "        else:\n",
    "            ans1=dp[n//3]  \n",
    "    ans2=sys.maxsize\n",
    "    if n%2==0:\n",
    "        if dp[n//2]==-1:\n",
    "            ans2=minStepsTo1(n//2,dp)\n",
    "            dp[n//2]=ans2\n",
    "        else:\n",
    "            ans2=dp[n//2]\n",
    "            \n",
    "    if dp[n-1]==-1:\n",
    "        ans3=minStepsTo1(n-1,dp)\n",
    "        dp[n-1]=ans3\n",
    "    else:\n",
    "        ans3=dp[n-1]\n",
    "    \n",
    "    ans=1+min(ans1,ans2,ans3)\n",
    "    return ans\n",
    "n=int(input())\n",
    "dp=[-1 for i in range(n+1)]\n",
    "ans=minStepsTo1(n,dp)\n",
    "print(ans)"
   ]
  },
  {
   "cell_type": "code",
   "execution_count": 18,
   "metadata": {},
   "outputs": [
    {
     "name": "stdout",
     "output_type": "stream",
     "text": [
      "8\n",
      "3\n"
     ]
    }
   ],
   "source": [
    "from sys import stdin\n",
    "from sys import maxsize as MAX_VALUE\n",
    "sys.setrecursionlimit(100000)\n",
    "\n",
    "def countMinStepsToOne(n,dp) :\n",
    "    if n==1:\n",
    "        return 0\n",
    "    minSteps=[0]*(n+1)\n",
    "    minSteps[1]=0\n",
    "    for currStep in range(2,(n+1)):\n",
    "        subtractOne=MAX_VALUE\n",
    "        dividebyTwo=MAX_VALUE\n",
    "        dividebyThree=MAX_VALUE\n",
    "        substract=minSteps[currStep-1]\n",
    "        if currStep%2==0:\n",
    "            dividebyTwo=minSteps[currStep//2]\n",
    "        if currStep%3==0:\n",
    "            dividebyThree=minSteps[currStep//3]\n",
    "        minSteps[currStep]=1+min(subtractOne,dividebyTwo,dividebyThree)\n",
    "    return minSteps[n]\n",
    "n=int(input())\n",
    "dp=[-1 for i in range(n+1)]\n",
    "ans=countMinStepsToOne(n,dp)\n",
    "print(ans)"
   ]
  },
  {
   "cell_type": "markdown",
   "metadata": {},
   "source": [
    "# Min Square To Represent N"
   ]
  },
  {
   "cell_type": "markdown",
   "metadata": {},
   "source": [
    "## Recursive approach"
   ]
  },
  {
   "cell_type": "code",
   "execution_count": 24,
   "metadata": {},
   "outputs": [
    {
     "name": "stdout",
     "output_type": "stream",
     "text": [
      "28\n",
      "4\n"
     ]
    }
   ],
   "source": [
    "import math,sys\n",
    "def minSquares(n):\n",
    "    if n==0:\n",
    "        return 0\n",
    "    ans=sys.maxsize\n",
    "    root=int(math.sqrt(n))\n",
    "    for i in range(1,root+1):\n",
    "        currAns=1+minSquares(n-(i**2))\n",
    "        ans=min(ans,currAns)\n",
    "    return ans\n",
    "n=int(input())\n",
    "ans=minSquares(n)\n",
    "print(ans)\n",
    "    "
   ]
  },
  {
   "cell_type": "markdown",
   "metadata": {},
   "source": [
    "## Recursive Approach with Memorization"
   ]
  },
  {
   "cell_type": "code",
   "execution_count": 31,
   "metadata": {},
   "outputs": [
    {
     "name": "stdout",
     "output_type": "stream",
     "text": [
      "190\n",
      "3\n"
     ]
    }
   ],
   "source": [
    "import math,sys\n",
    "def minSquares(n,dp):\n",
    "    if n==0:\n",
    "        return 0\n",
    "    ans=sys.maxsize\n",
    "    root=int(math.sqrt(n))\n",
    "    for i in range(1,root+1):\n",
    "        newCheckValue=n-(i**2)\n",
    "        if dp[newCheckValue]==-1:\n",
    "            smallAns=minSquares(newCheckValue,dp)\n",
    "            dp[newCheckValue]=smallAns\n",
    "            currAns=1+smallAns\n",
    "        else:\n",
    "            currAns=1+dp[newCheckValue]\n",
    "        ans=min(ans,currAns)\n",
    "    return ans\n",
    "n=int(input())\n",
    "dp=[-1 for i in range(n+1)]\n",
    "ans=minSquares(n,dp)\n",
    "print(ans)\n",
    "    "
   ]
  },
  {
   "cell_type": "markdown",
   "metadata": {},
   "source": [
    "## Iterative Approach"
   ]
  },
  {
   "cell_type": "code",
   "execution_count": 32,
   "metadata": {},
   "outputs": [
    {
     "name": "stdout",
     "output_type": "stream",
     "text": [
      "199\n",
      "4\n"
     ]
    }
   ],
   "source": [
    "import sys,math\n",
    "def minSquaresI(n):\n",
    "    dp=[-1 for i in range(n+1)]\n",
    "    dp[0]=0\n",
    "    for i in range(1,n+1):\n",
    "        ans=sys.maxsize\n",
    "        root=int(math.sqrt(i))\n",
    "        for j in range(1,root+1):\n",
    "            currAns=1+dp[i-(j**2)]\n",
    "            ans=min(ans,currAns)\n",
    "        dp[i]=ans\n",
    "    return dp[n]\n",
    "n=int(input())\n",
    "ans=minSquaresI(n)\n",
    "print(ans)"
   ]
  },
  {
   "cell_type": "markdown",
   "metadata": {},
   "source": [
    "# Longest Increasing Subsequence"
   ]
  },
  {
   "cell_type": "code",
   "execution_count": 11,
   "metadata": {},
   "outputs": [
    {
     "name": "stdout",
     "output_type": "stream",
     "text": [
      "7\n",
      "6 3 1 2 7 0 9\n",
      "4\n"
     ]
    }
   ],
   "source": [
    "def lis(li,i,n):\n",
    "    if i==n:\n",
    "        return 0,0\n",
    "    including_max=1\n",
    "    for j in range(i+1,n):\n",
    "        if li[j]>=li[i]:\n",
    "            further_including_max=lis(li,j,n)[0]\n",
    "            including_max=max(including_max,1+further_including_max)\n",
    "    excluding_max=lis(li,i+1,n)[1]\n",
    "    overallMax=max(including_max,excluding_max)\n",
    "    return including_max,overallMax\n",
    "n=int(input())\n",
    "li=[int(ele) for ele in input().split()]\n",
    "ans=lis(li,0,n)[1]\n",
    "print(ans)"
   ]
  },
  {
   "cell_type": "code",
   "execution_count": 12,
   "metadata": {},
   "outputs": [
    {
     "name": "stdout",
     "output_type": "stream",
     "text": [
      "7\n",
      "6 3 1 2 7 0 9\n",
      "4\n"
     ]
    }
   ],
   "source": [
    "def lis(li,i,n,dp):\n",
    "    if i==n:\n",
    "        return 0,0\n",
    "    including_max=1\n",
    "    for j in range(i+1,n):\n",
    "        if li[j]>=li[i]:\n",
    "            if dp[j]==-1:\n",
    "                ans=lis(li,j,n,dp)\n",
    "                dp[j]=ans\n",
    "                further_including_max=ans[0]\n",
    "            else:\n",
    "                further_including_max=dp[j][0]\n",
    "            including_max=max(including_max,1+further_including_max)\n",
    "    if dp[i+1]==-1:\n",
    "        ans=lis(li,i+1,n,dp)\n",
    "        dp[i+1]=ans\n",
    "        excluding_max=ans[1]\n",
    "    else:\n",
    "        excluding_max=dp[i+1][1]\n",
    "\n",
    "    overallMax=max(including_max,excluding_max)\n",
    "    return including_max,overallMax\n",
    "n=int(input())\n",
    "li=[int(ele) for ele in input().split()]\n",
    "dp=[-1 for i in range(n+1)]\n",
    "ans=lis(li,0,n,dp)[1]\n",
    "print(ans)"
   ]
  },
  {
   "cell_type": "markdown",
   "metadata": {},
   "source": [
    "# iterative"
   ]
  },
  {
   "cell_type": "code",
   "execution_count": 6,
   "metadata": {},
   "outputs": [
    {
     "name": "stdout",
     "output_type": "stream",
     "text": [
      "7\n",
      "6 3 1 2 7 0 9\n",
      "4\n"
     ]
    }
   ],
   "source": [
    "def lisI(li,n):\n",
    "    dp=[[0 for j in range(2)] for i in range(n+1)]\n",
    "    for i in range(n-1,-1,-1):\n",
    "        including_max=1\n",
    "        for j in range(i+1,n):\n",
    "            if li[j]>li[i]:\n",
    "                including_max=max(including_max,1+dp[j][0])\n",
    "        dp[i][0]=including_max\n",
    "        excluding_max=dp[i+1][1]\n",
    "        overallMax=max(including_max,excluding_max)\n",
    "        dp[i][1]=overallMax\n",
    "    return dp[0][1]\n",
    "    \n",
    "n=int(input())\n",
    "li=[int(ele) for ele in input().split()]\n",
    "ans=lisI(li,n)\n",
    "print(ans)"
   ]
  }
 ],
 "metadata": {
  "kernelspec": {
   "display_name": "Python 3",
   "language": "python",
   "name": "python3"
  },
  "language_info": {
   "codemirror_mode": {
    "name": "ipython",
    "version": 3
   },
   "file_extension": ".py",
   "mimetype": "text/x-python",
   "name": "python",
   "nbconvert_exporter": "python",
   "pygments_lexer": "ipython3",
   "version": "3.8.3"
  }
 },
 "nbformat": 4,
 "nbformat_minor": 4
}
