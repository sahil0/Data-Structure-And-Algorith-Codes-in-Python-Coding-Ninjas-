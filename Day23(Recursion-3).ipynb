{
 "cells": [
  {
   "cell_type": "markdown",
   "metadata": {},
   "source": [
    "# Return subsequences"
   ]
  },
  {
   "cell_type": "code",
   "execution_count": null,
   "metadata": {},
   "outputs": [],
   "source": [
    "def subs(s):\n",
    "    if len(s)==0:\n",
    "        output=[]\n",
    "        output.append(\"\")\n",
    "        return output\n",
    "    smallerString=s[1:]\n",
    "    smallerOutput=subs(smallerString)\n",
    "    output=[]\n",
    "    for sub in smallerOutput:\n",
    "        output.append(sub)\n",
    "    for sub in smallerOutput:\n",
    "        subs_with_zeroth_char=s[0]+sub\n",
    "        output.append(subs_with_zeroth_char)\n",
    "    return output\n",
    "subs(\"abc\")"
   ]
  },
  {
   "cell_type": "markdown",
   "metadata": {},
   "source": [
    "# Return Keypad"
   ]
  },
  {
   "cell_type": "raw",
   "metadata": {},
   "source": [
    "Given an integer n, using phone keypad find out all the possible strings that can be made using digits of input n.\n",
    "Note : The order of strings are not important.\n",
    "Input Format :\n",
    "Integer n\n",
    "Output Format :\n",
    "All possible strings in different lines\n",
    "Constraints :\n",
    "1 <= n <= 10^6\n",
    "Sample Input:\n",
    "23\n",
    "Sample Output:\n",
    "ad\n",
    "ae\n",
    "af\n",
    "bd\n",
    "be\n",
    "bf\n",
    "cd\n",
    "ce\n",
    "cf"
   ]
  },
  {
   "cell_type": "code",
   "execution_count": null,
   "metadata": {},
   "outputs": [],
   "source": [
    "options=['','',\"abc\",\"def\",\"ghi\",\"jkl\",\"mno\",\"pqrs\",\"tuv\",\"wxyz\"]\n",
    "def keypad(n):\n",
    "    if n==0:\n",
    "        output=['']\n",
    "        return output\n",
    "    smallerInteger=n//10\n",
    "    Remainingdigit=n%10\n",
    "    smallerOutput=keypad(smallerInteger)\n",
    "    optionsForLastDigit=getString(Remainingdigit)\n",
    "    output=[]\n",
    "    for s in smallerOutput:\n",
    "        for c in optionsForLastDigit:\n",
    "            option=s+c\n",
    "            output.append(option)\n",
    "    return output\n",
    "output=keypad(1)\n",
    "len(output),output"
   ]
  },
  {
   "cell_type": "code",
   "execution_count": null,
   "metadata": {},
   "outputs": [],
   "source": [
    "def getString(d):\n",
    "    if d==2:\n",
    "        return \"abc\"\n",
    "    if d==3:\n",
    "        return \"def\"\n",
    "    if d==4:\n",
    "        return \"ghi\"\n",
    "    if d==5:\n",
    "        return \"jkl\"\n",
    "    if d==6:\n",
    "        return \"mno\"\n",
    "    if d==7:\n",
    "        return \"pqrs\"\n",
    "    if d==8:\n",
    "        return \"tuv\"\n",
    "    if d==9:\n",
    "        return \"wxyz\"\n",
    "    return \" \" \n",
    "def keypad(n):\n",
    "    if n==0:\n",
    "        output=[]\n",
    "        output.append(\"\")\n",
    "        return output\n",
    "    smallerInteger=n//10\n",
    "    Remainingdigit=n%10\n",
    "    smallerOutput=keypad(smallerInteger)\n",
    "    optionsForLastDigit=getString(Remainingdigit)\n",
    "    output=[]\n",
    "    for s in smallerOutput:\n",
    "        for c in optionsForLastDigit:\n",
    "            option=s+c\n",
    "            output.append(option)\n",
    "    return output\n",
    "output=keypad(237)\n",
    "len(output),output"
   ]
  },
  {
   "cell_type": "markdown",
   "metadata": {},
   "source": [
    "# Print Output insted of returning"
   ]
  },
  {
   "cell_type": "markdown",
   "metadata": {},
   "source": [
    "## ex : Printfactorial"
   ]
  },
  {
   "cell_type": "markdown",
   "metadata": {},
   "source": [
    "### Normal"
   ]
  },
  {
   "cell_type": "code",
   "execution_count": null,
   "metadata": {},
   "outputs": [],
   "source": [
    "def fact(n):\n",
    "    if n==0:\n",
    "        return 1\n",
    "    smallerOutput=fact(n-1)\n",
    "    output=n*smallerOutput\n",
    "    return output\n",
    "    \n",
    "fact(5)"
   ]
  },
  {
   "cell_type": "markdown",
   "metadata": {},
   "source": [
    "### using helper function"
   ]
  },
  {
   "cell_type": "code",
   "execution_count": null,
   "metadata": {},
   "outputs": [],
   "source": [
    "def factHelper(n):\n",
    "    if n==0:\n",
    "        return 1\n",
    "    smallerOutput=factHelper(n-1)\n",
    "    output=n*smallerOutput\n",
    "    return output\n",
    "def fact(n):\n",
    "    output=factHelper(n)\n",
    "    print(output)\n",
    "fact(5)"
   ]
  },
  {
   "cell_type": "markdown",
   "metadata": {},
   "source": [
    "### without any helper function and best approach"
   ]
  },
  {
   "cell_type": "code",
   "execution_count": null,
   "metadata": {},
   "outputs": [],
   "source": [
    "def printfact(n,ans):\n",
    "    if n==0:\n",
    "        print(ans)\n",
    "        return \n",
    "    ans=ans*n\n",
    "    printfact(n-1,ans)\n",
    "printfact(5,1)"
   ]
  },
  {
   "cell_type": "markdown",
   "metadata": {},
   "source": [
    "# Array Min"
   ]
  },
  {
   "cell_type": "code",
   "execution_count": null,
   "metadata": {},
   "outputs": [],
   "source": [
    "def minList(l):\n",
    "    if len(l)==1:\n",
    "        return l[0]\n",
    "    minSmallArray=minList(l[1:])\n",
    "    overallMin=min(minSmallArray,l[0])\n",
    "    return overallMin\n",
    "l=[1,2,3,4,-1,0,-5,5,6]\n",
    "print(minList(l))"
   ]
  },
  {
   "cell_type": "code",
   "execution_count": null,
   "metadata": {},
   "outputs": [],
   "source": [
    "def minList(l,minSoFar=100000):\n",
    "    if len(l)==0:\n",
    "        print(minSoFar)\n",
    "        return \n",
    "    newMin=min(minSoFar,l[0])\n",
    "    minList(l[1:],newMin)\n",
    "l=[1,2,3,4,-1,0,-5,5,6]\n",
    "minList(l)"
   ]
  },
  {
   "cell_type": "markdown",
   "metadata": {},
   "source": [
    "# Print subsequence"
   ]
  },
  {
   "cell_type": "code",
   "execution_count": 19,
   "metadata": {},
   "outputs": [
    {
     "name": "stdout",
     "output_type": "stream",
     "text": [
      "abc\n",
      "\n",
      " c\n",
      " b\n",
      " b c\n",
      " a\n",
      " a c\n",
      " a b\n",
      " a b c\n"
     ]
    }
   ],
   "source": [
    "def printSubs(s,o):\n",
    "    if len(s)==0:\n",
    "        print(o)\n",
    "        return\n",
    "    #dont include 0th char\n",
    "    printSubs(s[1:],o)\n",
    "    #include 0th char\n",
    "    newOutput=o+' '+s[0]\n",
    "    printSubs(s[1:],newOutput)\n",
    "o=\"\"\n",
    "string=input()\n",
    "printSubs(string,o)"
   ]
  },
  {
   "cell_type": "code",
   "execution_count": 22,
   "metadata": {},
   "outputs": [
    {
     "name": "stdout",
     "output_type": "stream",
     "text": [
      "3\n",
      "10 20 10\n",
      "\n",
      "10 \n",
      "20 \n",
      "20 10 \n",
      "10 \n",
      "10 10 \n",
      "10 20 \n",
      "10 20 10 \n"
     ]
    }
   ],
   "source": []
  },
  {
   "cell_type": "code",
   "execution_count": 23,
   "metadata": {},
   "outputs": [
    {
     "name": "stdout",
     "output_type": "stream",
     "text": [
      "3\n",
      "10 20 30\n",
      "\n",
      "30 \n",
      "20 \n",
      "20 30 \n",
      "10 \n",
      "10 30 \n",
      "10 20 \n",
      "10 20 30 \n"
     ]
    }
   ],
   "source": []
  },
  {
   "cell_type": "markdown",
   "metadata": {},
   "source": [
    "# print keypad "
   ]
  },
  {
   "cell_type": "code",
   "execution_count": null,
   "metadata": {},
   "outputs": [],
   "source": [
    "def getString(d):\n",
    "    if d==2:\n",
    "        return \"abc\"\n",
    "    if d==3:\n",
    "        return \"def\"\n",
    "    if d==4:\n",
    "        return \"ghi\"\n",
    "    if d==5:\n",
    "        return \"jkl\"\n",
    "    if d==6:\n",
    "        return \"mno\"\n",
    "    if d==7:\n",
    "        return \"pqrs\"\n",
    "    if d==8:\n",
    "        return \"tuv\"\n",
    "    if d==9:\n",
    "        return \"wxyz\"\n",
    "    return \" \" \n",
    "def printKeypad(n,outputSoFar):\n",
    "    if n==0:\n",
    "        print(outputSoFar)\n",
    "        return \n",
    "    smallNumber=n//10\n",
    "    lastDigit=n%10\n",
    "    optionsForLastDigit=getString(lastDigit)\n",
    "    for c in optionsForLastDigit:\n",
    "        newOutput=c+outputSoFar\n",
    "        printKeypad(smallNumber,newOutput)\n",
    "printKeypad(23,'')"
   ]
  },
  {
   "cell_type": "code",
   "execution_count": null,
   "metadata": {},
   "outputs": [],
   "source": [
    "def printKeypadhelper(num,str):\n",
    "    options=['','',\"abc\",\"def\",\"ghi\",\"jkl\",\"mno\",\"pqrs\",\"tuv\",\"wxyz\"]\n",
    "    if num==0:\n",
    "        print(str)\n",
    "        return \n",
    "    small=num//10\n",
    "    remainder=num%10\n",
    "    optionslen=len(options[remainder])\n",
    "    if(optionslen==0):\n",
    "        printKeypadhelper(small,str)\n",
    "        return \n",
    "    for i in range(0,optionslen):\n",
    "        printKeypadhelper(small,options[remainder][i]+str)\n",
    "def printKeypad(num):\n",
    "    printKeypadhelper(num,'')\n",
    "n=int(input())\n",
    "printKeypad(n)\n"
   ]
  },
  {
   "cell_type": "markdown",
   "metadata": {},
   "source": [
    "# Return subsets sum to K\n"
   ]
  },
  {
   "cell_type": "raw",
   "metadata": {},
   "source": [
    "Given an array A of size n and an integer K, return all subsets of A which sum to K.\n",
    "Subsets are of length varying from 0 to n, that contain elements of the array. But the order of elements should remain same as in the input array.\n",
    "Note : The order of subsets are not important.\n",
    "Input format :\n",
    "Line 1 : Integer n, Size of input array\n",
    "Line 2 : Array elements separated by space\n",
    "Line 3 : K \n",
    "Constraints :\n",
    "1 <= n <= 20\n",
    "Sample Input :\n",
    "9 \n",
    "5 12 3 17 1 18 15 3 17 \n",
    "6\n",
    "Sample Output :\n",
    "3 3\n",
    "5 1"
   ]
  },
  {
   "cell_type": "code",
   "execution_count": null,
   "metadata": {},
   "outputs": [],
   "source": [
    "import sys\n",
    "sys.setrecursionlimit(10 ** 8)\n",
    "\n",
    "def subsetsSumKHelper(arr,startIndex,k):\n",
    "    if startIndex==len(arr):\n",
    "        if k==0:\n",
    "            return [list()]\n",
    "        else:\n",
    "            return list()\n",
    "    smallOutput1=subsetsSumKHelper(arr,startIndex+1,k)\n",
    "    smallOutput2=subsetsSumKHelper(arr,startIndex+1,k-arr[startIndex])\n",
    "    output=(len(smallOutput1) + len(smallOutput2))*[0]\n",
    "    \n",
    "    index=0\n",
    "    for i in range(len(smallOutput1)):\n",
    "        output[index]=smallOutput1[i]\n",
    "        index+=1\n",
    "    for i in range(len(smallOutput2)):\n",
    "        output[index]=(len(smallOutput2[i]+1)*[0]\n",
    "        output[index][0]=arr[startIndex]\n",
    "        for j in range(len(smallOutput2[i])):\n",
    "            output[input][j+1]=smallOutput2[i][j]\n",
    "        index+=1\n",
    "    return output\n",
    "                       \n",
    "def subsetsSumK(arr,k):\n",
    "    return subsetsSumkHelper(arr,0,k)\n",
    "                       \n",
    "#taking input\n",
    "def takeInput() :\n",
    "    n = int(input().strip())\n",
    "\n",
    "    if n == 0 :\n",
    "        return list(), 0\n",
    "\n",
    "    arr = [int(element) for element in list(input().strip().split(\" \"))]\n",
    "    return arr, n\n",
    "def printlol(l):\n",
    "    for li in l:\n",
    "        for e in li:\n",
    "            print(e,end=\" \")\n",
    "        print()\n",
    "\n",
    "#main\n",
    "arr, n = takeInput()\n",
    "\n",
    "if n != 0 :\n",
    "    k = int(input().strip())\n",
    "    l=subsetsSumK(arr, k)\n",
    "    printlol(l)"
   ]
  },
  {
   "cell_type": "code",
   "execution_count": null,
   "metadata": {},
   "outputs": [],
   "source": [
    "from itertools import combinations as com\n",
    "n=int(input())\n",
    "l=list(map(int,input().split()))\n",
    "k=int(input())\n",
    "for i in range(1,n+1):\n",
    "    for j in com(l,i):\n",
    "        if sum(j)==k:\n",
    "            print(*j)"
   ]
  },
  {
   "cell_type": "code",
   "execution_count": null,
   "metadata": {},
   "outputs": [],
   "source": [
    "def subsetsSumK(arr, k,n,values) :\n",
    "    if k==0:\n",
    "        for v in values:\n",
    "            print(v,end='')\n",
    "        print()\n",
    "        return\n",
    "    if n==0:\n",
    "        return \n",
    "    subsetsSumK(arr, k,n-1,values)\n",
    "    v1=[]+values\n",
    "    v1.append(arr[n-1])\n",
    "    subsetsSumK(arr, k-arr[n-1],n-1,v1)\n",
    "    \n",
    "        \n"
   ]
  },
  {
   "cell_type": "markdown",
   "metadata": {},
   "source": [
    "# Return subset of an array"
   ]
  },
  {
   "cell_type": "code",
   "execution_count": null,
   "metadata": {},
   "outputs": [],
   "source": [
    "def subs(s):\n",
    "    if len(s)==0:\n",
    "        output=[]\n",
    "        output.append(\" \")\n",
    "        return output\n",
    "    smallerString=s[1:]\n",
    "    smallerOutput=subs(smallerString)\n",
    "    output=[]\n",
    "    for sub in smallerOutput:\n",
    "        output.append(sub)\n",
    "    for sub in smallerOutput:\n",
    "        subs_with_zeroth_char=s[0]+\" \"+sub\n",
    "        output.append(subs_with_zeroth_char)\n",
    "    return output\n",
    "n=int(input())\n",
    "arr = input().split()\n",
    "out=subs(arr)\n",
    "for s in out:\n",
    "    print(s)\n",
    "    "
   ]
  },
  {
   "cell_type": "code",
   "execution_count": 13,
   "metadata": {},
   "outputs": [
    {
     "name": "stdout",
     "output_type": "stream",
     "text": [
      "3\n",
      "10 20 30\n",
      "\n",
      "10 \n",
      "20 \n",
      "10 20 \n",
      "30 \n",
      "10 30 \n",
      "20 30 \n",
      "10 20 30 \n"
     ]
    }
   ],
   "source": [
    "def subset(arr):\n",
    "    n=len(arr)\n",
    "    if(n<=0):\n",
    "        output=[[]]\n",
    "        return output\n",
    "    output=subset(arr[:n-1])\n",
    "    outputLen=len(output)\n",
    "    for i in range(0,outputLen):\n",
    "        output.append(output[i].copy())\n",
    "        output[outputLen+i].append(arr[n-1])\n",
    "    return output\n",
    "n=int(input())\n",
    "arr=list(int(i) for i in input().strip().split(' '))\n",
    "output=subset(arr)\n",
    "for lst in output:\n",
    "    for num in lst:\n",
    "        print(num,end=' ')\n",
    "    print()"
   ]
  },
  {
   "cell_type": "markdown",
   "metadata": {},
   "source": [
    "# Return Permutation of a string"
   ]
  },
  {
   "cell_type": "code",
   "execution_count": 1,
   "metadata": {},
   "outputs": [
    {
     "name": "stdout",
     "output_type": "stream",
     "text": [
      "abc\n"
     ]
    },
    {
     "ename": "TypeError",
     "evalue": "can only concatenate list (not \"str\") to list",
     "output_type": "error",
     "traceback": [
      "\u001b[1;31m---------------------------------------------------------------------------\u001b[0m",
      "\u001b[1;31mTypeError\u001b[0m                                 Traceback (most recent call last)",
      "\u001b[1;32m<ipython-input-1-818ed7843b88>\u001b[0m in \u001b[0;36m<module>\u001b[1;34m\u001b[0m\n\u001b[0;32m     12\u001b[0m         \u001b[1;32mreturn\u001b[0m \u001b[0ms\u001b[0m\u001b[1;33m\u001b[0m\u001b[1;33m\u001b[0m\u001b[0m\n\u001b[0;32m     13\u001b[0m \u001b[0mstring\u001b[0m \u001b[1;33m=\u001b[0m \u001b[0minput\u001b[0m\u001b[1;33m(\u001b[0m\u001b[1;33m)\u001b[0m\u001b[1;33m\u001b[0m\u001b[1;33m\u001b[0m\u001b[0m\n\u001b[1;32m---> 14\u001b[1;33m \u001b[0mans\u001b[0m \u001b[1;33m=\u001b[0m \u001b[0mpermutations\u001b[0m\u001b[1;33m(\u001b[0m\u001b[0mstring\u001b[0m\u001b[1;33m)\u001b[0m\u001b[1;33m\u001b[0m\u001b[1;33m\u001b[0m\u001b[0m\n\u001b[0m\u001b[0;32m     15\u001b[0m \u001b[1;32mfor\u001b[0m \u001b[0ms\u001b[0m \u001b[1;32min\u001b[0m \u001b[0mans\u001b[0m\u001b[1;33m:\u001b[0m\u001b[1;33m\u001b[0m\u001b[1;33m\u001b[0m\u001b[0m\n\u001b[0;32m     16\u001b[0m     \u001b[0mprint\u001b[0m\u001b[1;33m(\u001b[0m\u001b[0ms\u001b[0m\u001b[1;33m)\u001b[0m\u001b[1;33m\u001b[0m\u001b[1;33m\u001b[0m\u001b[0m\n",
      "\u001b[1;32m<ipython-input-1-818ed7843b88>\u001b[0m in \u001b[0;36mpermutations\u001b[1;34m(string)\u001b[0m\n\u001b[0;32m      8\u001b[0m         \u001b[0mm\u001b[0m\u001b[1;33m=\u001b[0m\u001b[0mstring\u001b[0m\u001b[1;33m[\u001b[0m\u001b[0mi\u001b[0m\u001b[1;33m]\u001b[0m\u001b[1;33m\u001b[0m\u001b[1;33m\u001b[0m\u001b[0m\n\u001b[0;32m      9\u001b[0m         \u001b[0mremList\u001b[0m\u001b[1;33m=\u001b[0m\u001b[0mstring\u001b[0m\u001b[1;33m[\u001b[0m\u001b[1;33m:\u001b[0m\u001b[0mi\u001b[0m\u001b[1;33m]\u001b[0m\u001b[1;33m+\u001b[0m\u001b[0mstring\u001b[0m\u001b[1;33m[\u001b[0m\u001b[0mi\u001b[0m\u001b[1;33m+\u001b[0m\u001b[1;36m1\u001b[0m\u001b[1;33m:\u001b[0m\u001b[1;33m]\u001b[0m\u001b[1;33m\u001b[0m\u001b[1;33m\u001b[0m\u001b[0m\n\u001b[1;32m---> 10\u001b[1;33m         \u001b[1;32mfor\u001b[0m \u001b[0mp\u001b[0m \u001b[1;32min\u001b[0m \u001b[0mpermutations\u001b[0m\u001b[1;33m(\u001b[0m\u001b[0mremList\u001b[0m\u001b[1;33m)\u001b[0m\u001b[1;33m:\u001b[0m\u001b[1;33m\u001b[0m\u001b[1;33m\u001b[0m\u001b[0m\n\u001b[0m\u001b[0;32m     11\u001b[0m             \u001b[0ms\u001b[0m\u001b[1;33m.\u001b[0m\u001b[0mappend\u001b[0m\u001b[1;33m(\u001b[0m\u001b[1;33m[\u001b[0m\u001b[0mm\u001b[0m\u001b[1;33m]\u001b[0m\u001b[1;33m+\u001b[0m\u001b[0mp\u001b[0m\u001b[1;33m)\u001b[0m\u001b[1;33m\u001b[0m\u001b[1;33m\u001b[0m\u001b[0m\n\u001b[0;32m     12\u001b[0m         \u001b[1;32mreturn\u001b[0m \u001b[0ms\u001b[0m\u001b[1;33m\u001b[0m\u001b[1;33m\u001b[0m\u001b[0m\n",
      "\u001b[1;32m<ipython-input-1-818ed7843b88>\u001b[0m in \u001b[0;36mpermutations\u001b[1;34m(string)\u001b[0m\n\u001b[0;32m      9\u001b[0m         \u001b[0mremList\u001b[0m\u001b[1;33m=\u001b[0m\u001b[0mstring\u001b[0m\u001b[1;33m[\u001b[0m\u001b[1;33m:\u001b[0m\u001b[0mi\u001b[0m\u001b[1;33m]\u001b[0m\u001b[1;33m+\u001b[0m\u001b[0mstring\u001b[0m\u001b[1;33m[\u001b[0m\u001b[0mi\u001b[0m\u001b[1;33m+\u001b[0m\u001b[1;36m1\u001b[0m\u001b[1;33m:\u001b[0m\u001b[1;33m]\u001b[0m\u001b[1;33m\u001b[0m\u001b[1;33m\u001b[0m\u001b[0m\n\u001b[0;32m     10\u001b[0m         \u001b[1;32mfor\u001b[0m \u001b[0mp\u001b[0m \u001b[1;32min\u001b[0m \u001b[0mpermutations\u001b[0m\u001b[1;33m(\u001b[0m\u001b[0mremList\u001b[0m\u001b[1;33m)\u001b[0m\u001b[1;33m:\u001b[0m\u001b[1;33m\u001b[0m\u001b[1;33m\u001b[0m\u001b[0m\n\u001b[1;32m---> 11\u001b[1;33m             \u001b[0ms\u001b[0m\u001b[1;33m.\u001b[0m\u001b[0mappend\u001b[0m\u001b[1;33m(\u001b[0m\u001b[1;33m[\u001b[0m\u001b[0mm\u001b[0m\u001b[1;33m]\u001b[0m\u001b[1;33m+\u001b[0m\u001b[0mp\u001b[0m\u001b[1;33m)\u001b[0m\u001b[1;33m\u001b[0m\u001b[1;33m\u001b[0m\u001b[0m\n\u001b[0m\u001b[0;32m     12\u001b[0m         \u001b[1;32mreturn\u001b[0m \u001b[0ms\u001b[0m\u001b[1;33m\u001b[0m\u001b[1;33m\u001b[0m\u001b[0m\n\u001b[0;32m     13\u001b[0m \u001b[0mstring\u001b[0m \u001b[1;33m=\u001b[0m \u001b[0minput\u001b[0m\u001b[1;33m(\u001b[0m\u001b[1;33m)\u001b[0m\u001b[1;33m\u001b[0m\u001b[1;33m\u001b[0m\u001b[0m\n",
      "\u001b[1;31mTypeError\u001b[0m: can only concatenate list (not \"str\") to list"
     ]
    }
   ],
   "source": [
    "def permutations(string):\n",
    "    if len(string)==0:\n",
    "        return []\n",
    "    if len(string)==1:\n",
    "        return [string]\n",
    "    s=[]\n",
    "    for i in range(len(string)):\n",
    "        m=string[i]\n",
    "        remList=string[:i]+string[i+1:]\n",
    "        for p in permutations(remList):\n",
    "            s.append([m]+p)\n",
    "        return s       \n",
    "string = input()\n",
    "ans = permutations(string)\n",
    "for s in ans:\n",
    "    print(s)\n",
    "\n",
    "\n",
    "\n",
    "\n",
    "\n",
    "\n"
   ]
  },
  {
   "cell_type": "markdown",
   "metadata": {},
   "source": [
    "# Print Subsets of Array"
   ]
  },
  {
   "cell_type": "raw",
   "metadata": {},
   "source": [
    "Given an integer array (of length n), find and print all the subsets of input array.\n",
    "Subsets are of length varying from 0 to n, that contain elements of the array. But the order of elements should remain same as in the input array.\n",
    "Note : The order of subsets are not important. Just print the subsets in different lines.\n",
    "Input format :\n",
    "Line 1 : Integer n, Size of array\n",
    "Line 2 : Array elements (separated by space)\n",
    "Constraints :\n",
    "1 <= n <= 15\n",
    "Sample Input:\n",
    "3\n",
    "15 20 12\n",
    "Sample Output:\n",
    "[] (this just represents an empty array, don't worry about the square brackets)\n",
    "12 \n",
    "20 \n",
    "20 12 \n",
    "15 \n",
    "15 12 \n",
    "15 20 \n",
    "15 20 12 "
   ]
  },
  {
   "cell_type": "code",
   "execution_count": 25,
   "metadata": {},
   "outputs": [
    {
     "name": "stdout",
     "output_type": "stream",
     "text": [
      "3\n",
      "10 20 30\n",
      "\n",
      "30 \n",
      "20 \n",
      "20 30 \n",
      "10 \n",
      "10 30 \n",
      "10 20 \n",
      "10 20 30 \n"
     ]
    }
   ],
   "source": [
    "def printsubsetHelper(arr,lst):\n",
    "    n=len(arr)\n",
    "    if n==0:\n",
    "        for number in lst:\n",
    "            print(number,end=' ')\n",
    "        print()\n",
    "        return\n",
    "    printsubsetHelper(arr[1:],lst)\n",
    "    newLst=lst.copy()\n",
    "    newLst.append(arr[0])\n",
    "    printsubsetHelper(arr[1:],newLst)\n",
    "    return \n",
    "def printsubset(arr):\n",
    "    printsubsetHelper(arr,[])\n",
    "n=int(input())\n",
    "arr=list(int(i) for i in input().strip().split(' '))\n",
    "printsubset(arr)"
   ]
  },
  {
   "cell_type": "code",
   "execution_count": 26,
   "metadata": {},
   "outputs": [
    {
     "name": "stdout",
     "output_type": "stream",
     "text": [
      "3\n",
      "10 20 30\n",
      "\n",
      "30 \n",
      "20 \n",
      "20 30 \n",
      "10 \n",
      "10 30 \n",
      "10 20 \n",
      "10 20 30 \n"
     ]
    }
   ],
   "source": [
    "def printSubs(s,o):\n",
    "    if len(s)==0:\n",
    "        for i in o:\n",
    "            print(i,end=\" \")\n",
    "        print()\n",
    "        return\n",
    "    #dont include 0th char\n",
    "    printSubs(s[1:],o)\n",
    "    #include 0th char\n",
    "    newOutput=[]+o\n",
    "    newOutput.append(s[0])\n",
    "    printSubs(s[1:],newOutput)\n",
    "    \n",
    "n=int(input())\n",
    "string=input().strip().split(' ')\n",
    "printSubs(string,[])"
   ]
  },
  {
   "cell_type": "markdown",
   "metadata": {},
   "source": [
    "# Print Subset Sum to K\n"
   ]
  },
  {
   "cell_type": "raw",
   "metadata": {},
   "source": [
    "Given an array A and an integer K, print all subsets of A which sum to K.\n",
    "Subsets are of length varying from 0 to n, that contain elements of the array. But the order of elements should remain same as in the input array.\n",
    "Note : The order of subsets are not important. Just print them in different lines.\n",
    "Input format :\n",
    "Line 1 : Size of input array\n",
    "Line 2 : Array elements separated by space\n",
    "Line 3 : K \n",
    "Sample Input:\n",
    "9 \n",
    "5 12 3 17 1 18 15 3 17 \n",
    "6\n",
    "Sample Output:\n",
    "3 3\n",
    "5 1"
   ]
  },
  {
   "cell_type": "code",
   "execution_count": null,
   "metadata": {},
   "outputs": [
    {
     "name": "stdout",
     "output_type": "stream",
     "text": [
      "9\n",
      "5 12 3 17 1 18 15 3 17 \n",
      "6\n"
     ]
    }
   ],
   "source": [
    "def printSubsetMain(arr, k, lst):\n",
    "    n=len(arr)\n",
    "    if n==0: \n",
    "        return \n",
    "    if n==1: \n",
    "        if arr[0]==k: \n",
    "            print(k, *lst)\n",
    "            return \n",
    "        \n",
    "    printSubsetMain(arr[:-1], k, lst) \n",
    "    printSubsetMain(arr[:-1], k-arr[-1], [arr[-1]]+lst)\n",
    "    if arr[-1]==k: \n",
    "        print(k, *lst) \n",
    "n=int(input())\n",
    "arr=list(int(i) for i in input().strip().split(' ')) \n",
    "k=int(input()) \n",
    "printSubsetMain(arr, k,[])"
   ]
  },
  {
   "cell_type": "markdown",
   "metadata": {},
   "source": [
    "# Print Permutations of a String\n"
   ]
  },
  {
   "cell_type": "raw",
   "metadata": {},
   "source": [
    "Given a string, find and print all the possible permutations of the input string.\n",
    "Note : The order of permutations are not important. Just print them in different lines.\n",
    "Sample Input :\n",
    "abc\n",
    "Sample Output :\n",
    "abc\n",
    "acb\n",
    "bac\n",
    "bca\n",
    "cab\n",
    "cba"
   ]
  },
  {
   "cell_type": "code",
   "execution_count": 8,
   "metadata": {},
   "outputs": [
    {
     "name": "stdout",
     "output_type": "stream",
     "text": [
      "abc\n",
      "abc\n",
      "acb\n",
      "bac\n",
      "bca\n",
      "cab\n",
      "cba\n"
     ]
    }
   ],
   "source": [
    "def printPermutationsHelper(string,output):\n",
    "    if len(string)==0:\n",
    "        print(output)\n",
    "        return\n",
    "    for i in range(len(string)):\n",
    "        printPermutationsHelper(string[:i]+string[i+1:],output+string[i])\n",
    "def printPermutation(string):\n",
    "    printPermutationsHelper(string,\"\")\n",
    "string=input()\n",
    "printPermutation(string)"
   ]
  },
  {
   "cell_type": "code",
   "execution_count": 2,
   "metadata": {},
   "outputs": [
    {
     "name": "stdout",
     "output_type": "stream",
     "text": [
      "100000\n"
     ]
    }
   ],
   "source": [
    "def minfun(n, minsofar = 100000):\n",
    "    if len(n)==0:\n",
    "        print(minsofar)\n",
    "        return\n",
    "    \n",
    "    mino = min(minsofar,n[0])\n",
    "    minfun(n[1:],mino)\n",
    "minfun([])"
   ]
  },
  {
   "cell_type": "code",
   "execution_count": 4,
   "metadata": {},
   "outputs": [
    {
     "name": "stdout",
     "output_type": "stream",
     "text": [
      "[]\n",
      "[]\n"
     ]
    }
   ],
   "source": [
    "print([])\n",
    "li=list()\n",
    "print(li)"
   ]
  }
 ],
 "metadata": {
  "kernelspec": {
   "display_name": "Python 3",
   "language": "python",
   "name": "python3"
  },
  "language_info": {
   "codemirror_mode": {
    "name": "ipython",
    "version": 3
   },
   "file_extension": ".py",
   "mimetype": "text/x-python",
   "name": "python",
   "nbconvert_exporter": "python",
   "pygments_lexer": "ipython3",
   "version": "3.8.3"
  }
 },
 "nbformat": 4,
 "nbformat_minor": 4
}
