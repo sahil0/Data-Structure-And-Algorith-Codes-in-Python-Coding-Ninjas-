{
 "cells": [
  {
   "cell_type": "code",
   "execution_count": 58,
   "metadata": {},
   "outputs": [],
   "source": [
    "a={'The':1,'a':5,1000:2}"
   ]
  },
  {
   "cell_type": "code",
   "execution_count": 59,
   "metadata": {},
   "outputs": [
    {
     "data": {
      "text/plain": [
       "5"
      ]
     },
     "execution_count": 59,
     "metadata": {},
     "output_type": "execute_result"
    }
   ],
   "source": [
    "max(a.values())"
   ]
  },
  {
   "cell_type": "code",
   "execution_count": 134,
   "metadata": {},
   "outputs": [
    {
     "data": {
      "text/plain": [
       "dict"
      ]
     },
     "execution_count": 134,
     "metadata": {},
     "output_type": "execute_result"
    }
   ],
   "source": [
    "type(a)"
   ]
  },
  {
   "cell_type": "code",
   "execution_count": 135,
   "metadata": {},
   "outputs": [
    {
     "name": "stdout",
     "output_type": "stream",
     "text": [
      "{'The': 1, 'a': 5, 1000: 'abc'}\n"
     ]
    }
   ],
   "source": [
    "print(a)"
   ]
  },
  {
   "cell_type": "code",
   "execution_count": 136,
   "metadata": {},
   "outputs": [
    {
     "data": {
      "text/plain": [
       "3"
      ]
     },
     "execution_count": 136,
     "metadata": {},
     "output_type": "execute_result"
    }
   ],
   "source": [
    "len(a)"
   ]
  },
  {
   "cell_type": "code",
   "execution_count": 137,
   "metadata": {},
   "outputs": [],
   "source": [
    "b=a.copy()"
   ]
  },
  {
   "cell_type": "code",
   "execution_count": 138,
   "metadata": {},
   "outputs": [
    {
     "name": "stdout",
     "output_type": "stream",
     "text": [
      "{'The': 1, 'a': 5, 1000: 'abc'}\n",
      "\n",
      "{'The': 1, 'a': 5, 1000: 'abc'}\n"
     ]
    }
   ],
   "source": [
    "print(a)\n",
    "print()\n",
    "print(b)"
   ]
  },
  {
   "cell_type": "code",
   "execution_count": 139,
   "metadata": {},
   "outputs": [
    {
     "name": "stdout",
     "output_type": "stream",
     "text": [
      "{'the': 3, 'a': 10, 2: 3}\n"
     ]
    }
   ],
   "source": [
    "c=dict([('the',3),('a',10),(2,3)])\n",
    "print(c)"
   ]
  },
  {
   "cell_type": "code",
   "execution_count": 140,
   "metadata": {},
   "outputs": [
    {
     "name": "stdout",
     "output_type": "stream",
     "text": [
      "{'abc': None, 32: None, 4: None}\n"
     ]
    }
   ],
   "source": [
    "d=dict.fromkeys(['abc',32,4])\n",
    "print(d)"
   ]
  },
  {
   "cell_type": "code",
   "execution_count": 16,
   "metadata": {},
   "outputs": [
    {
     "name": "stdout",
     "output_type": "stream",
     "text": [
      "{'abcd': None}\n"
     ]
    }
   ],
   "source": [
    "d=dict.fromkeys(['abcd'])\n",
    "print(d)"
   ]
  },
  {
   "cell_type": "code",
   "execution_count": 141,
   "metadata": {},
   "outputs": [
    {
     "name": "stdout",
     "output_type": "stream",
     "text": [
      "{'abc': 20, 32: 20, 4: 20}\n"
     ]
    }
   ],
   "source": [
    "d=dict.fromkeys(['abc',32,4],20)\n",
    "print(d)"
   ]
  },
  {
   "cell_type": "code",
   "execution_count": 142,
   "metadata": {},
   "outputs": [
    {
     "data": {
      "text/plain": [
       "{1: 2, 3: 4, 'list': [1, 23], 'dict': {1: 2}}"
      ]
     },
     "execution_count": 142,
     "metadata": {},
     "output_type": "execute_result"
    }
   ],
   "source": [
    "a={1:2,3:4,'list':[1,23],'dict':{1:2}}\n",
    "a"
   ]
  },
  {
   "cell_type": "code",
   "execution_count": 143,
   "metadata": {},
   "outputs": [
    {
     "data": {
      "text/plain": [
       "[1, 23]"
      ]
     },
     "execution_count": 143,
     "metadata": {},
     "output_type": "execute_result"
    }
   ],
   "source": [
    "a['list']\n"
   ]
  },
  {
   "cell_type": "code",
   "execution_count": 144,
   "metadata": {},
   "outputs": [
    {
     "data": {
      "text/plain": [
       "[1, 23]"
      ]
     },
     "execution_count": 144,
     "metadata": {},
     "output_type": "execute_result"
    }
   ],
   "source": [
    "a.get('list')"
   ]
  },
  {
   "cell_type": "code",
   "execution_count": 145,
   "metadata": {},
   "outputs": [
    {
     "name": "stdout",
     "output_type": "stream",
     "text": [
      "None\n"
     ]
    }
   ],
   "source": [
    "print(a.get('li'))"
   ]
  },
  {
   "cell_type": "code",
   "execution_count": 146,
   "metadata": {},
   "outputs": [
    {
     "data": {
      "text/plain": [
       "0"
      ]
     },
     "execution_count": 146,
     "metadata": {},
     "output_type": "execute_result"
    }
   ],
   "source": [
    "a.get('li',0)"
   ]
  },
  {
   "cell_type": "code",
   "execution_count": 147,
   "metadata": {},
   "outputs": [
    {
     "data": {
      "text/plain": [
       "dict_keys([1, 3, 'list', 'dict'])"
      ]
     },
     "execution_count": 147,
     "metadata": {},
     "output_type": "execute_result"
    }
   ],
   "source": [
    "a.keys()"
   ]
  },
  {
   "cell_type": "code",
   "execution_count": 60,
   "metadata": {},
   "outputs": [
    {
     "ename": "TypeError",
     "evalue": "keys() takes no arguments (1 given)",
     "output_type": "error",
     "traceback": [
      "\u001b[1;31m---------------------------------------------------------------------------\u001b[0m",
      "\u001b[1;31mTypeError\u001b[0m                                 Traceback (most recent call last)",
      "\u001b[1;32m<ipython-input-60-303594a25172>\u001b[0m in \u001b[0;36m<module>\u001b[1;34m\u001b[0m\n\u001b[1;32m----> 1\u001b[1;33m \u001b[0ma\u001b[0m\u001b[1;33m.\u001b[0m\u001b[0mkeys\u001b[0m\u001b[1;33m(\u001b[0m\u001b[1;36m1\u001b[0m\u001b[1;33m)\u001b[0m\u001b[1;33m\u001b[0m\u001b[1;33m\u001b[0m\u001b[0m\n\u001b[0m",
      "\u001b[1;31mTypeError\u001b[0m: keys() takes no arguments (1 given)"
     ]
    }
   ],
   "source": []
  },
  {
   "cell_type": "code",
   "execution_count": 148,
   "metadata": {},
   "outputs": [
    {
     "data": {
      "text/plain": [
       "dict_values([2, 4, [1, 23], {1: 2}])"
      ]
     },
     "execution_count": 148,
     "metadata": {},
     "output_type": "execute_result"
    }
   ],
   "source": [
    "a.values()"
   ]
  },
  {
   "cell_type": "code",
   "execution_count": 149,
   "metadata": {},
   "outputs": [
    {
     "data": {
      "text/plain": [
       "dict_items([(1, 2), (3, 4), ('list', [1, 23]), ('dict', {1: 2})])"
      ]
     },
     "execution_count": 149,
     "metadata": {},
     "output_type": "execute_result"
    }
   ],
   "source": [
    "a.items()"
   ]
  },
  {
   "cell_type": "code",
   "execution_count": 150,
   "metadata": {},
   "outputs": [
    {
     "name": "stdout",
     "output_type": "stream",
     "text": [
      "1\n",
      "3\n",
      "list\n",
      "dict\n"
     ]
    }
   ],
   "source": [
    "for i in a:\n",
    "    print(i)"
   ]
  },
  {
   "cell_type": "code",
   "execution_count": 151,
   "metadata": {},
   "outputs": [
    {
     "name": "stdout",
     "output_type": "stream",
     "text": [
      "keys: 1  -- Values: 2\n",
      "keys: 3  -- Values: 4\n",
      "keys: list  -- Values: [1, 23]\n",
      "keys: dict  -- Values: {1: 2}\n"
     ]
    }
   ],
   "source": [
    "for i in a:\n",
    "    print('keys:',i,' --','Values:',a[i])"
   ]
  },
  {
   "cell_type": "code",
   "execution_count": 152,
   "metadata": {},
   "outputs": [
    {
     "name": "stdout",
     "output_type": "stream",
     "text": [
      "2\n",
      "4\n",
      "[1, 23]\n",
      "{1: 2}\n"
     ]
    }
   ],
   "source": [
    "for i in a.values():\n",
    "    print(i)"
   ]
  },
  {
   "cell_type": "code",
   "execution_count": null,
   "metadata": {},
   "outputs": [],
   "source": [
    "for i in a.values():\n",
    "    print(i)"
   ]
  },
  {
   "cell_type": "code",
   "execution_count": 153,
   "metadata": {},
   "outputs": [
    {
     "data": {
      "text/plain": [
       "True"
      ]
     },
     "execution_count": 153,
     "metadata": {},
     "output_type": "execute_result"
    }
   ],
   "source": [
    "'list' in a"
   ]
  },
  {
   "cell_type": "code",
   "execution_count": 154,
   "metadata": {},
   "outputs": [
    {
     "data": {
      "text/plain": [
       "False"
      ]
     },
     "execution_count": 154,
     "metadata": {},
     "output_type": "execute_result"
    }
   ],
   "source": [
    "2 in a #Bcoz not work on values only work on keys"
   ]
  },
  {
   "cell_type": "code",
   "execution_count": 155,
   "metadata": {},
   "outputs": [
    {
     "ename": "KeyError",
     "evalue": "0",
     "output_type": "error",
     "traceback": [
      "\u001b[1;31m---------------------------------------------------------------------------\u001b[0m",
      "\u001b[1;31mKeyError\u001b[0m                                  Traceback (most recent call last)",
      "\u001b[1;32m<ipython-input-155-2022b1e73230>\u001b[0m in \u001b[0;36m<module>\u001b[1;34m\u001b[0m\n\u001b[0;32m      1\u001b[0m \u001b[0md\u001b[0m \u001b[1;33m=\u001b[0m \u001b[1;33m{\u001b[0m\u001b[1;36m1\u001b[0m\u001b[1;33m:\u001b[0m\u001b[1;36m2\u001b[0m\u001b[1;33m,\u001b[0m \u001b[1;34m'abc'\u001b[0m\u001b[1;33m:\u001b[0m\u001b[1;36m5\u001b[0m\u001b[1;33m,\u001b[0m \u001b[1;34m'def'\u001b[0m\u001b[1;33m:\u001b[0m\u001b[1;36m7\u001b[0m\u001b[1;33m}\u001b[0m\u001b[1;33m\u001b[0m\u001b[1;33m\u001b[0m\u001b[0m\n\u001b[1;32m----> 2\u001b[1;33m \u001b[0mprint\u001b[0m\u001b[1;33m(\u001b[0m\u001b[0md\u001b[0m\u001b[1;33m[\u001b[0m\u001b[1;36m0\u001b[0m\u001b[1;33m]\u001b[0m\u001b[1;33m)\u001b[0m\u001b[1;33m\u001b[0m\u001b[1;33m\u001b[0m\u001b[0m\n\u001b[0m",
      "\u001b[1;31mKeyError\u001b[0m: 0"
     ]
    }
   ],
   "source": [
    "d = {1:2, 'abc':5, 'def':7}\n",
    "print(d[0])\n"
   ]
  },
  {
   "cell_type": "code",
   "execution_count": 156,
   "metadata": {},
   "outputs": [
    {
     "name": "stdout",
     "output_type": "stream",
     "text": [
      "5\n"
     ]
    }
   ],
   "source": [
    "d = {1:2, 'abc':5, 'def':7}\n",
    "print(d.get(0,5))"
   ]
  },
  {
   "cell_type": "code",
   "execution_count": 157,
   "metadata": {},
   "outputs": [
    {
     "name": "stdout",
     "output_type": "stream",
     "text": [
      "Not Present\n"
     ]
    }
   ],
   "source": [
    "d = {1:2, 'abc':5, 'def':7}\n",
    "if 2 in d:\n",
    "    print('Present')\n",
    "else:\n",
    "    print('Not Present')"
   ]
  },
  {
   "cell_type": "code",
   "execution_count": 1,
   "metadata": {},
   "outputs": [
    {
     "name": "stdout",
     "output_type": "stream",
     "text": [
      "{1: 2, 'list': [1, 2], 3: 7, 4: 5}\n",
      "7\n"
     ]
    }
   ],
   "source": [
    "a = {1:2,'list':[1,2],3:5}\n",
    "b = {4:5,3:7}\n",
    "a.update(b)\n",
    "print(a)\n",
    "print(a[3])"
   ]
  },
  {
   "cell_type": "code",
   "execution_count": 10,
   "metadata": {},
   "outputs": [
    {
     "name": "stdout",
     "output_type": "stream",
     "text": [
      "[3, 5]\n"
     ]
    },
    {
     "data": {
      "text/plain": [
       "2"
      ]
     },
     "execution_count": 10,
     "metadata": {},
     "output_type": "execute_result"
    }
   ],
   "source": [
    "a = {1:2,'list':[1,2],3:5}\n",
    "a.pop('list')\n",
    "a['list'] = [3,5]\n",
    "print(a['list'])\n",
    "a.pop(1)\n"
   ]
  },
  {
   "cell_type": "raw",
   "metadata": {},
   "source": [
    "Given: n = no of entries in Hashmap b= size of bucket array What is load factor mathematically ?\n",
    "\n",
    "B2\n",
    "\n",
    "Ans:n/b"
   ]
  },
  {
   "cell_type": "markdown",
   "metadata": {},
   "source": [
    "# HashMap"
   ]
  },
  {
   "cell_type": "markdown",
   "metadata": {},
   "source": [
    "### How To inset in Map?"
   ]
  },
  {
   "cell_type": "code",
   "execution_count": 24,
   "metadata": {},
   "outputs": [
    {
     "name": "stdout",
     "output_type": "stream",
     "text": [
      "12\n",
      "1\n",
      "2\n",
      "2\n",
      "7\n",
      "17\n",
      "None\n"
     ]
    }
   ],
   "source": [
    "class MapNode:\n",
    "    def __init__(self,key,value):\n",
    "        self.key=key\n",
    "        self.value=value\n",
    "        self.next=None\n",
    "class Map:\n",
    "    def __init__(self):\n",
    "        self.bucketSize=10\n",
    "        self.buckets=[None for i in range(self.bucketSize)]\n",
    "        self.count=0\n",
    "    def size(self):\n",
    "        return self.count\n",
    "    def getBucketIndex(self,hc):\n",
    "        return (abs(hc)%(self.bucketSize))\n",
    "    def remove(self,key):\n",
    "        hc=hash(key)\n",
    "        index=self.getBucketIndex(hc)\n",
    "        head=self.buckets[index]\n",
    "        prev=None\n",
    "        while head is not None:\n",
    "            if head.key==key:\n",
    "                if prev is None:\n",
    "                    self.buckets[index]=head.next\n",
    "                else:\n",
    "                    prev.next=head.next\n",
    "                self.count-=1\n",
    "                return head.value\n",
    "            prev=head\n",
    "            head=head.next\n",
    "        return None\n",
    "    def getValue(self,key):\n",
    "        hc=hash(key)\n",
    "        index=self.getBucketIndex(hc)\n",
    "        head=self.buckets[index]\n",
    "        while head is not None:\n",
    "            if head.key==key:\n",
    "                return head.value\n",
    "            head=head.next\n",
    "        return None\n",
    "    \n",
    "        \n",
    "    def insert(self,key,value):\n",
    "        hc=hash(key)\n",
    "        index=self.getBucketIndex(hc)\n",
    "        head=self.buckets[index]\n",
    "        while head is not  None:\n",
    "            if head.key==key:\n",
    "                head.value=value\n",
    "                return \n",
    "            head=head.next\n",
    "        head=self.buckets[index]\n",
    "        newNode=MapNode(key,value)\n",
    "        newNode.next=head\n",
    "        self.buckets[index]=newNode\n",
    "        self.count+=1\n",
    "m=Map()\n",
    "m.insert('Sahil',12)\n",
    "print(m.getValue('Sahil'))\n",
    "print(m.size())\n",
    "m.insert('Rohan',7)\n",
    "print(m.size())\n",
    "m.insert('Sahil',17)\n",
    "print(m.size())\n",
    "print(m.getValue('Rohan'))\n",
    "print(m.getValue('Sahil'))\n",
    "m.remove('Rohan')\n",
    "print(m.getValue('Rohan'))\n",
    "\n"
   ]
  },
  {
   "cell_type": "markdown",
   "metadata": {},
   "source": [
    "# Rehashing\n"
   ]
  },
  {
   "cell_type": "code",
   "execution_count": 1,
   "metadata": {},
   "outputs": [
    {
     "name": "stdout",
     "output_type": "stream",
     "text": [
      "0.1\n",
      "0.2\n",
      "0.3\n",
      "0.4\n",
      "0.5\n",
      "0.6\n",
      "0.35\n",
      "0.4\n",
      "0.45\n",
      "0.5\n",
      "abc0: 1\n",
      "abc1: 2\n",
      "abc2: 3\n",
      "abc3: 4\n",
      "abc4: 5\n",
      "abc5: 6\n",
      "abc6: 7\n",
      "abc7: 8\n",
      "abc8: 9\n",
      "abc9: 10\n"
     ]
    }
   ],
   "source": [
    "class MapNode:\n",
    "    def __init__(self,key,value):\n",
    "        self.key=key\n",
    "        self.value=value\n",
    "        self.next=None\n",
    "class Map:\n",
    "    def __init__(self):\n",
    "        self.bucketSize=10\n",
    "        self.buckets=[None for i in range(self.bucketSize)]\n",
    "        self.count=0\n",
    "    def size(self):\n",
    "        return self.count\n",
    "    def getBucketIndex(self,hc):\n",
    "        return (abs(hc)%(self.bucketSize))\n",
    "    def remove(self,key):\n",
    "        hc=hash(key)\n",
    "        index=self.getBucketIndex(hc)\n",
    "        head=self.buckets[index]\n",
    "        prev=None\n",
    "        while head is not None:\n",
    "            if head.key==key:\n",
    "                if prev is None:\n",
    "                    self.buckets[index]=head.next\n",
    "                else:\n",
    "                    prev.next=head.next\n",
    "                self.count-=1\n",
    "                return head.value\n",
    "            prev=head\n",
    "            head=head.next\n",
    "        return None\n",
    "    def getValue(self,key):\n",
    "        hc=hash(key)\n",
    "        index=self.getBucketIndex(hc)\n",
    "        head=self.buckets[index]\n",
    "        while head is not None:\n",
    "            if head.key==key:\n",
    "                return head.value\n",
    "            head=head.next\n",
    "        return None\n",
    "    \n",
    "    def rehash(self):\n",
    "        temp=self.buckets\n",
    "        self.buckets=[None for i in range(2*self.bucketSize)]\n",
    "        self.bucketSize=2*self.bucketSize\n",
    "        self.count=0\n",
    "        for head in temp:\n",
    "            while head is not None:\n",
    "                self.insert(head.key,head.value)\n",
    "                head=head.next\n",
    "    def loadFactor(self):\n",
    "        return self.count/self.bucketSize\n",
    "        \n",
    "    def insert(self,key,value):\n",
    "        hc=hash(key)\n",
    "        index=self.getBucketIndex(hc)\n",
    "        head=self.buckets[index]\n",
    "        while head is not  None:\n",
    "            if head.key==key:\n",
    "                head.value=value\n",
    "                return \n",
    "            head=head.next\n",
    "        head=self.buckets[index]\n",
    "        newNode=MapNode(key,value)\n",
    "        newNode.next=head\n",
    "        self.buckets[index]=newNode\n",
    "        self.count+=1\n",
    "################   Rehashing Concept Start   ###############\n",
    "        loadFactor=self.count/self.bucketSize\n",
    "        if loadFactor>=0.7:\n",
    "            self.rehash()\n",
    "m=Map()\n",
    "for i in range(10):\n",
    "    m.insert('abc'+str(i),i+1)\n",
    "    print(m.loadFactor())\n",
    "for i in range(10):\n",
    "    print('abc'+str(i)+':',m.getValue('abc'+str(i)))\n",
    "#m.insert('Sahil',12)\n",
    "#print(m.getValue('Sahil'))\n",
    "#print(m.size())\n",
    "#m.insert('Rohan',7)\n",
    "#print(m.size())\n",
    "#m.insert('Sahil',17)\n",
    "#print(m.size())\n",
    "#print(m.getValue('Rohan'))\n",
    "#print(m.getValue('Sahil'))\n",
    "#m.remove('Rohan')\n",
    "#print(m.getValue('Rohan'))\n",
    "\n"
   ]
  },
  {
   "cell_type": "markdown",
   "metadata": {},
   "source": [
    "##### Average Case Time Complexity of Hashmap in insertion, deletion & searching \n",
    "#### Ans:O(1)\n",
    "\n"
   ]
  },
  {
   "cell_type": "markdown",
   "metadata": {},
   "source": [
    "##### Time Complexity for retrieving all keyset from Hashmap\n",
    "#### Ans:O(n)\n",
    "##### Solution Description\n",
    "##### Will iterate through all the values"
   ]
  },
  {
   "cell_type": "markdown",
   "metadata": {},
   "source": [
    "# Coding Assignments"
   ]
  },
  {
   "cell_type": "markdown",
   "metadata": {},
   "source": [
    "## Print all Words with freq k"
   ]
  },
  {
   "cell_type": "markdown",
   "metadata": {},
   "source": [
    "#### logic 1"
   ]
  },
  {
   "cell_type": "code",
   "execution_count": 160,
   "metadata": {},
   "outputs": [
    {
     "name": "stdout",
     "output_type": "stream",
     "text": [
      "{'this': 1, 'is': 1, 'a': 1, 'word': 2, 'string': 1, 'having': 1, 'many': 2}\n",
      "\n",
      "word\n",
      "word\n"
     ]
    }
   ],
   "source": [
    "s='this is a word string having many many word'\n",
    "k=2\n",
    "words=s.split()\n",
    "d={}\n",
    "for w in words:\n",
    "    if w in d:\n",
    "        d[w]=d[w]+1\n",
    "    else:\n",
    "        d[w]=1\n",
    "print(d)\n",
    "print()\n",
    "\n",
    "for i in d:\n",
    "    if d[i]==k:\n",
    "        print(w)"
   ]
  },
  {
   "cell_type": "markdown",
   "metadata": {},
   "source": [
    "#### logic 2"
   ]
  },
  {
   "cell_type": "code",
   "execution_count": 161,
   "metadata": {},
   "outputs": [
    {
     "name": "stdout",
     "output_type": "stream",
     "text": [
      "{'this': 1, 'is': 1, 'a': 1, 'word': 2, 'string': 1, 'having': 1, 'many': 2}\n",
      "word\n",
      "word\n"
     ]
    }
   ],
   "source": [
    "s='this is a word string having many many word'\n",
    "k=2\n",
    "words=s.split()\n",
    "d={}\n",
    "for w in words:\n",
    "    d[w]=d.get(w,0)+1\n",
    "print(d)\n",
    "for i in d:\n",
    "    if d[i]==k:\n",
    "        print(w)"
   ]
  },
  {
   "cell_type": "markdown",
   "metadata": {},
   "source": [
    "#### logic 3 using def "
   ]
  },
  {
   "cell_type": "code",
   "execution_count": 162,
   "metadata": {},
   "outputs": [],
   "source": [
    "def printKFreqWords(s,k):\n",
    "    words=s.split()\n",
    "    d={}\n",
    "    for w in words:\n",
    "        d[w]=d.get(w,0)+1\n",
    "    for w in d:\n",
    "        if d[w]==k:\n",
    "            print(w)\n"
   ]
  },
  {
   "cell_type": "code",
   "execution_count": 163,
   "metadata": {},
   "outputs": [
    {
     "name": "stdout",
     "output_type": "stream",
     "text": [
      "word\n",
      "many\n"
     ]
    }
   ],
   "source": [
    "printKFreqWords(s,k)"
   ]
  },
  {
   "cell_type": "markdown",
   "metadata": {},
   "source": [
    "## Pair Sum To 0"
   ]
  },
  {
   "cell_type": "raw",
   "metadata": {},
   "source": [
    "Given a random integer array A of size N. Find and print the pair of elements in the array which sum to 0.\n",
    "Array A can contain duplicate elements.\n",
    "While printing a pair, print the smaller element first.\n",
    "That is, if a valid pair is (6, -6) print \"-6 6\". There is no constraint that out of 5 pairs which have to be printed in 1st line. You can print pairs in any order, just be careful about the order of elements in a pair.\n",
    "Input format :\n",
    "Line 1 : Integer N (Array size)\n",
    "Line 2 : Array elements (separated by space)\n",
    "Output format :\n",
    "Line 1 : Pair 1 elements (separated by space)\n",
    "Line 2 : Pair 2 elements (separated by space)\n",
    "Line 3 : and so on\n",
    "Constraints :\n",
    "0 <= N <= 10^4\n",
    "Sample Input:\n",
    "5\n",
    "2 1 -2 2 3\n",
    "Sample Output :\n",
    "-2 2\n",
    "-2 2"
   ]
  },
  {
   "cell_type": "code",
   "execution_count": 52,
   "metadata": {},
   "outputs": [
    {
     "name": "stdout",
     "output_type": "stream",
     "text": [
      "6\n",
      "2 0 -2 0 2 0\n",
      "-2 2\n",
      "0 0\n",
      "-2 2\n",
      "0 0\n",
      "0 0\n"
     ]
    }
   ],
   "source": [
    "def pairSum0(l):\n",
    "    dic={}\n",
    "    for num in l:\n",
    "        if -num in dic:\n",
    "            for i in range(dic[-num]):\n",
    "                if -num<num:\n",
    "                    print(-num,num)\n",
    "                else:\n",
    "                    print(num,-num)\n",
    "        if num in dic:\n",
    "            dic[num]+=1\n",
    "        else:\n",
    "            dic[num]=1\n",
    "n=int(input())\n",
    "l=list(int(i) for i in input().strip().split(' '))\n",
    "pairSum0(l)"
   ]
  },
  {
   "cell_type": "code",
   "execution_count": 34,
   "metadata": {},
   "outputs": [
    {
     "name": "stdout",
     "output_type": "stream",
     "text": [
      "6\n",
      "2 0 -2 0 2 0\n",
      "{2: 2, 0: 1}\n",
      "0 0\n",
      "{2: 2, 0: 2, -2: 1}\n",
      "-2 2\n",
      "{2: 2, 0: 3, -2: 2}\n",
      "0 0\n",
      "{2: 3, 0: 4, -2: 2}\n",
      "-2 2\n",
      "{2: 4, 0: 5, -2: 2}\n",
      "0 0\n"
     ]
    }
   ],
   "source": [
    "# Not proper\n",
    "def pairSum0(l):\n",
    "    d={}\n",
    "    for num in l:\n",
    "        d[num]=d.get(num,0)+1\n",
    "        if -num in d:\n",
    "            print(d)\n",
    "            if -num<num:\n",
    "                print(-num,num)\n",
    "            else:\n",
    "                print(num,-num)\n",
    "        if num in d:\n",
    "            d[num]+=1\n",
    "n=int(input())\n",
    "l=list(int(i) for i in input().strip().split(' '))\n",
    "pairSum0(l)"
   ]
  },
  {
   "cell_type": "markdown",
   "metadata": {},
   "source": [
    "## Maximum Frequency\n"
   ]
  },
  {
   "cell_type": "raw",
   "metadata": {},
   "source": [
    "You are given an array of integers that contain numbers in random order. Write a program to find and return the number which occurs the maximum times in the given input.\n",
    "If two or more elements contend for the maximum frequency, return the element which occurs in the array first.\n",
    "Input Format :\n",
    "Line 1 : An Integer N i.e. size of array\n",
    "Line 2 : N integers which are elements of the array, separated by spaces\n",
    "Output Format :\n",
    "Most frequent element\n",
    "Constraints :\n",
    "0 <= N <= 10^8\n",
    "Sample Input 1 :\n",
    "13\n",
    "2 12 2 11 12 2 1 2 2 11 12 2 6 \n",
    "Sample Output 1 :\n",
    "2\n",
    "Sample Input 2 :\n",
    "3\n",
    "1 4 5\n",
    "Sample Output 2 :\n",
    "1"
   ]
  },
  {
   "cell_type": "code",
   "execution_count": 12,
   "metadata": {},
   "outputs": [
    {
     "name": "stdout",
     "output_type": "stream",
     "text": [
      "20\n",
      "861 911 705 386 -854 653 -999 5 -650 -404 38 -403 -239 -430 -531 -253 -672 -161 -710 -300 \n",
      "{861: 1, 911: 1, 705: 1, 386: 1, -854: 1, 653: 1, -999: 1, 5: 1, -650: 1, -404: 1, 38: 1, -403: 1, -239: 1, -430: 1, -531: 1, -253: 1, -672: 1, -161: 1, -710: 1, -300: 1}\n",
      "861\n"
     ]
    }
   ],
   "source": [
    "def maxFreq(l):\n",
    "    d={}\n",
    "    for num in l:\n",
    "        d[num]=d.get(num,0)+1\n",
    "    print(d)\n",
    "    maxkey=max(d, key=d.get)\n",
    "    return maxkey        \n",
    "\n",
    "# Main\n",
    "n=int(input())\n",
    "l=list(int(i) for i in input().strip().split(' '))\n",
    "print(maxFreq(l))"
   ]
  },
  {
   "cell_type": "code",
   "execution_count": 49,
   "metadata": {},
   "outputs": [
    {
     "data": {
      "text/plain": [
       "0"
      ]
     },
     "execution_count": 49,
     "metadata": {},
     "output_type": "execute_result"
    }
   ],
   "source": [
    "for num in l:\n",
    "        d[num]=d.get(num,0)+1\n",
    "    print(max(d, key=d.get)\n"
   ]
  },
  {
   "cell_type": "code",
   "execution_count": null,
   "metadata": {},
   "outputs": [],
   "source": [
    "d={}\n",
    "    for num in l:\n",
    "        d[num]=d.get(num,0)+1\n",
    "    maxkey=max(d, key=d.get)\n",
    "    return maxkey"
   ]
  },
  {
   "cell_type": "code",
   "execution_count": 72,
   "metadata": {},
   "outputs": [],
   "source": [
    "a={675: 1}\n",
    "val=max(a.values())\n",
    "if max==1:\n",
    "    print(a)\n"
   ]
  },
  {
   "cell_type": "code",
   "execution_count": 77,
   "metadata": {},
   "outputs": [
    {
     "data": {
      "text/plain": [
       "'c'"
      ]
     },
     "execution_count": 77,
     "metadata": {},
     "output_type": "execute_result"
    }
   ],
   "source": [
    "counts = {\"a\": 10, \"b\": 10, \"c\": 20, \"d\": 10}\n",
    "max(counts, key=counts.get)"
   ]
  },
  {
   "cell_type": "markdown",
   "metadata": {},
   "source": [
    "## Extract Unique characters\n"
   ]
  },
  {
   "cell_type": "raw",
   "metadata": {},
   "source": [
    "Given a string, you need to remove all the duplicates. That means, the output string should contain each character only once. The respective order of characters should remain same.\n",
    "Input format :\n",
    "String S\n",
    "Output format :\n",
    "Output String\n",
    "Constraints :\n",
    "0 <= Length of S <= 10^8\n",
    "Sample Input 1 :\n",
    "ababacd\n",
    "Sample Output 1 :\n",
    "abcd\n",
    "Sample Input 2 :\n",
    "abcde\n",
    "Sample Output 2 :\n",
    "abcde"
   ]
  },
  {
   "cell_type": "code",
   "execution_count": 22,
   "metadata": {},
   "outputs": [
    {
     "name": "stdout",
     "output_type": "stream",
     "text": [
      "abccd\n",
      "abcd\n"
     ]
    }
   ],
   "source": [
    "def uniqueChars(string):\n",
    "    # Please add your code here\n",
    "    s=''\n",
    "    for char in string:\n",
    "        if char not in s:\n",
    "            s=s+char\n",
    "    return s\n",
    "\n",
    "# Main\n",
    "string = input()\n",
    "print(uniqueChars(string))"
   ]
  },
  {
   "cell_type": "code",
   "execution_count": 27,
   "metadata": {},
   "outputs": [
    {
     "name": "stdout",
     "output_type": "stream",
     "text": [
      "ababacd\n",
      "abcd\n"
     ]
    }
   ],
   "source": [
    "from collections import OrderedDict\n",
    "def uniqueChars(string):\n",
    "    return \"\".join(OrderedDict.fromkeys(string))\n",
    "# Main\n",
    "string = input()\n",
    "print(uniqueChars(string))"
   ]
  },
  {
   "cell_type": "code",
   "execution_count": 26,
   "metadata": {},
   "outputs": [
    {
     "name": "stdout",
     "output_type": "stream",
     "text": [
      "ababacd\n",
      "abcd\n"
     ]
    }
   ],
   "source": [
    "from collections import OrderedDict\n",
    "def uniqueChars(string):\n",
    "    d=OrderedDict()\n",
    "    s=''\n",
    "    for char in string:\n",
    "        d[char]=d.get(char,0)+1\n",
    "\n",
    "    for keys in d.keys():\n",
    "        s=s+keys\n",
    "    return s\n",
    "# Main\n",
    "string = input()\n",
    "print(uniqueChars(string))\n"
   ]
  },
  {
   "cell_type": "code",
   "execution_count": 24,
   "metadata": {},
   "outputs": [
    {
     "name": "stdout",
     "output_type": "stream",
     "text": [
      "ababacd\n",
      "abcd\n"
     ]
    }
   ],
   "source": [
    "# This is not right \n",
    "def uniqueChars(string):\n",
    "    # Please add your code here\n",
    "    d={}\n",
    "    s=''\n",
    "    for char in string:\n",
    "        d[char]=d.get(char,0)+1\n",
    "\n",
    "    for keys in sorted(d.keys()):\n",
    "        s=s+keys\n",
    "    return s\n",
    "\n",
    "# Main\n",
    "string = input()\n",
    "print(uniqueChars(string))\n"
   ]
  },
  {
   "cell_type": "code",
   "execution_count": 15,
   "metadata": {},
   "outputs": [
    {
     "data": {
      "text/plain": [
       "dict_keys(['s', 'b'])"
      ]
     },
     "execution_count": 15,
     "metadata": {},
     "output_type": "execute_result"
    }
   ],
   "source": [
    "s=''\n",
    "d={'s':1,'b':2}\n",
    "key=d.keys()\n",
    "s\n",
    "key"
   ]
  },
  {
   "cell_type": "code",
   "execution_count": 21,
   "metadata": {},
   "outputs": [
    {
     "data": {
      "text/plain": [
       "['a', 'b', 'c', 'd']"
      ]
     },
     "execution_count": 21,
     "metadata": {},
     "output_type": "execute_result"
    }
   ],
   "source": [
    "a='bacd'\n",
    "x=sorted(a)\n",
    "x"
   ]
  },
  {
   "cell_type": "markdown",
   "metadata": {},
   "source": [
    "## Longest Consecutive Sequence\n"
   ]
  },
  {
   "cell_type": "raw",
   "metadata": {},
   "source": [
    "You are given an array of unique integers that contain numbers in random order. Write a program to find the longest possible sequence of consecutive numbers using the numbers from given array.\n",
    "You need to return the output array which contains consecutive elements. Order of elements in the output is not important.\n",
    "Best solution takes O(n) time.\n",
    "If two sequences are of equal length then return the sequence starting with the number whose occurrence is earlier in the array.\n",
    "Input Format :\n",
    "Line 1 : Integer n, Size of array\n",
    "Line 2 : Array elements (separated by space)\n",
    "Constraints :\n",
    "0 <= n <= 10^6\n",
    "Sample Input 1 :\n",
    "13\n",
    "2 12 9 16 10 5 3 20 25 11 1 8 6 \n",
    "Sample Output 1 :\n",
    "8 \n",
    "9 \n",
    "10 \n",
    "11 \n",
    "12\n",
    "Sample Input 2 :\n",
    "7\n",
    "3 7 2 1 9 8 41\n",
    "Sample Output 2 :\n",
    "7\n",
    "8\n",
    "9\n",
    "Explanation: Sequence should be of consecutive numbers. Here we have 2 sequences with same length i.e. [1, 2, 3] and [7, 8, 9], but output should be [7, 8, 9] because the starting point of [7, 8, 9] comes first in input array.\n",
    "Sample Input 3 :\n",
    "7\n",
    "15 24 23 12 19 11 16\n",
    "Sample Output 3 :\n",
    "15 \n",
    "16"
   ]
  },
  {
   "cell_type": "code",
   "execution_count": 51,
   "metadata": {},
   "outputs": [
    {
     "name": "stdout",
     "output_type": "stream",
     "text": [
      "7\n",
      "3 7 2 1 9 8 41\n",
      "7\n",
      "8\n",
      "9\n"
     ]
    }
   ],
   "source": [
    "def longestConsecutiveIncreasingSequence(l):\n",
    "    d={}\n",
    "    for num in l:\n",
    "        d[num]=d.get(num,True)\n",
    "    maxlength=-10\n",
    "    final=[]\n",
    "    for i in l:\n",
    "        li=[]\n",
    "        curr=i\n",
    "        flag=True\n",
    "        while flag:\n",
    "            if curr in d and d[curr]!=False:\n",
    "                d[curr]=False\n",
    "                li.append(curr)\n",
    "                curr+=1\n",
    "            else:\n",
    "                flag=False\n",
    "        curr=i-1\n",
    "        flag=True\n",
    "        while flag:\n",
    "            if curr in d and d[curr]!=False:\n",
    "                d[curr]=False\n",
    "                li.insert(0,curr)\n",
    "                start=curr\n",
    "                curr=curr-1\n",
    "            else:\n",
    "                flag=False\n",
    "        if len(li)==len(final):\n",
    "            ind_li=li[0]\n",
    "            ind_final=final[0]\n",
    "            if l.index(ind_li)<l.index(ind_final):\n",
    "                final=li\n",
    "        elif len(li)>len(final):\n",
    "            final=li\n",
    "            maxlength=len(li)\n",
    "            \n",
    "    return final\n",
    "n=int(input())\n",
    "l=list(int(i) for i in input().strip().split(' '))\n",
    "final = longestConsecutiveIncreasingSequence(l)\n",
    "for num in final:\n",
    "    print(num)"
   ]
  },
  {
   "cell_type": "code",
   "execution_count": 12,
   "metadata": {},
   "outputs": [
    {
     "name": "stdout",
     "output_type": "stream",
     "text": [
      "{3: True, 7: True, 2: True, 1: True, 9: True, 8: True, 41: True}\n",
      "{3: False, 7: True, 2: True, 1: True, 9: True, 8: True, 41: True}\n"
     ]
    }
   ],
   "source": [
    "l=[3,7,2,1,9,8,41]\n",
    "d={}\n",
    "for num in l:\n",
    "    d[num]=d.get(num,True)\n",
    "print(d)\n",
    "if 3 in d:\n",
    "    d[3]=False\n",
    "    print(d)\n",
    "else:\n",
    "    print('N')"
   ]
  },
  {
   "cell_type": "code",
   "execution_count": 40,
   "metadata": {},
   "outputs": [],
   "source": [
    "l=[3,7,2,1,9,8,41]\n",
    "l1=[2,3,4,5]"
   ]
  },
  {
   "cell_type": "code",
   "execution_count": 41,
   "metadata": {},
   "outputs": [
    {
     "name": "stdout",
     "output_type": "stream",
     "text": [
      "[3, 7, 2, 1, 9, 8, 41]\n"
     ]
    }
   ],
   "source": [
    "l2=l\n",
    "print(l2)"
   ]
  },
  {
   "cell_type": "code",
   "execution_count": 42,
   "metadata": {},
   "outputs": [
    {
     "name": "stdout",
     "output_type": "stream",
     "text": [
      "[1, 1, 2, 2, 3, 7, 8, 9, 41]\n"
     ]
    }
   ],
   "source": [
    "l2.insert(0, 1)\n",
    "l.insert(0, 2)"
   ]
  },
  {
   "cell_type": "code",
   "execution_count": 48,
   "metadata": {},
   "outputs": [
    {
     "name": "stdout",
     "output_type": "stream",
     "text": [
      "[2, 1, 3, 7, 2, 1, 9, 8, 41]\n"
     ]
    }
   ],
   "source": [
    "l3=sorted([])\n",
    "for i in l2:\n",
    "    l3.append(i)\n",
    "print(l3)"
   ]
  },
  {
   "cell_type": "markdown",
   "metadata": {},
   "source": [
    "# Pairs with difference K\n"
   ]
  },
  {
   "cell_type": "raw",
   "metadata": {},
   "source": [
    "You are given with an array of integers and an integer K. Write a program to find and print all pairs which have difference K.\n",
    "Take difference as absolute.\n",
    "Input Format :\n",
    "Line 1 : Integer n, Size of array\n",
    "Line 2 : Array elements (separated by space)\n",
    "Line 3 : K\n",
    "Output format :\n",
    "Print pairs in different lines (pair elements separated by space). In a pair, smaller element should be printed first.\n",
    "(Order of different pairs is not important)\n",
    "Constraints :\n",
    "0 <= n <= 10^4\n",
    "Sample Input 1 :\n",
    "4 \n",
    "5 1 2 4\n",
    "3\n",
    "Sample Output 1 :\n",
    "2 5\n",
    "1 4\n",
    "Sample Input 2 :\n",
    "4\n",
    "4 4 4 4 \n",
    "0\n",
    "Sample Output 2 :\n",
    "4 4\n",
    "4 4\n",
    "4 4\n",
    "4 4\n",
    "4 4\n",
    "4 4"
   ]
  },
  {
   "cell_type": "code",
   "execution_count": 5,
   "metadata": {},
   "outputs": [
    {
     "name": "stdout",
     "output_type": "stream",
     "text": [
      "4\n",
      "4 4 4 4\n",
      "0\n",
      "4  4\n",
      "4  4\n",
      "4  4\n",
      "4  4\n",
      "4  4\n",
      "4  4\n",
      "4  4\n",
      "4  4\n",
      "4  4\n",
      "4  4\n",
      "4  4\n",
      "4  4\n",
      "4  4\n",
      "4  4\n",
      "4  4\n",
      "4  4\n",
      "4  4\n",
      "4  4\n",
      "4  4\n",
      "4  4\n",
      "4  4\n",
      "4  4\n",
      "4  4\n",
      "4  4\n",
      "4  4\n",
      "4  4\n",
      "4  4\n",
      "4  4\n",
      "4  4\n",
      "4  4\n",
      "4  4\n",
      "4  4\n"
     ]
    }
   ],
   "source": [
    "def printPairDiffK(l, k):\n",
    "    d={}\n",
    "    if k!=0:\n",
    "        for num in l:\n",
    "            d[num]=d.get(num,0)+1\n",
    "        for num in d:\n",
    "            forward=num+k\n",
    "            backward=num-k\n",
    "            if forward in d and d[num]!=0:\n",
    "                values=d[num]*d[forward]\n",
    "                while values!=0:\n",
    "                    if num>forward:\n",
    "                        print(forward,'',num)\n",
    "                        values-=1\n",
    "                    else:\n",
    "                        print(num,'',forward)\n",
    "                        values-=1\n",
    "            if backward in d and d[num]!=0:\n",
    "                values=d[num]*d[backward]\n",
    "                while values!=0:\n",
    "                    if num>backward:\n",
    "                        print(backward,'',num)\n",
    "                        values-=1\n",
    "                    else:\n",
    "                        print(num,'',backward)\n",
    "                        values-=1\n",
    "            d[num]=0\n",
    "    else:\n",
    "        \n",
    "n=int(input())\n",
    "l=list(int(i) for i in input().strip().split(' '))\n",
    "k=int(input())\n",
    "printPairDiffK(l, k)"
   ]
  },
  {
   "cell_type": "code",
   "execution_count": 6,
   "metadata": {},
   "outputs": [
    {
     "name": "stdout",
     "output_type": "stream",
     "text": [
      "{4: 4}\n",
      "4\n"
     ]
    }
   ],
   "source": [
    "l=[4,4,4,4]\n",
    "d={}\n",
    "for num in l:\n",
    "    d[num]=d.get(num,0)+1\n",
    "print(d)\n",
    "for num in d:\n",
    "    print(num)"
   ]
  },
  {
   "cell_type": "markdown",
   "metadata": {},
   "source": [
    "## Longest subset zero sum"
   ]
  },
  {
   "cell_type": "raw",
   "metadata": {},
   "source": [
    "Given an array consisting of positive and negative integers, find the length of the longest subarray whose sum is zero.\n",
    "NOTE: You have to return the length of longest subarray .\n",
    "Input Format :\n",
    "Line 1 : Contains an integer N i.e. size of array\n",
    "\n",
    "Line 2 : Contains N elements of the array, separated by spaces\n",
    "Output Format\n",
    " Line 1 : Length of longest subarray \n",
    "Constraints:\n",
    "0 <= N <= 10^8\n",
    "Sample Input :\n",
    "10 \n",
    " 95 -97 -387 -435 -5 -70 897 127 23 284\n",
    "Sample Output :\n",
    "5\n"
   ]
  },
  {
   "cell_type": "code",
   "execution_count": null,
   "metadata": {},
   "outputs": [],
   "source": [
    "def subsetSum(l):\n",
    "\n",
    "n=int(input())\n",
    "l=list(int(i) for i in input().strip().split(' '))\n",
    "finalLen= subsetSum(l)\n",
    "print(finalLen)"
   ]
  },
  {
   "cell_type": "code",
   "execution_count": 1,
   "metadata": {},
   "outputs": [
    {
     "name": "stdout",
     "output_type": "stream",
     "text": [
      "{1: 0, 2: 1, 3: 2, 4: 3}\n"
     ]
    }
   ],
   "source": [
    "l=[1,2,3,4]\n",
    "d={}\n",
    "count=0\n",
    "for i in range(len(l)):\n",
    "    sum=0\n",
    "    for j in l:\n",
    "        sum=sum+j\n",
    "        \n",
    "for num in l:\n",
    "    d[num]=count\n",
    "    count+=1\n",
    "print(d)"
   ]
  },
  {
   "cell_type": "code",
   "execution_count": 23,
   "metadata": {},
   "outputs": [
    {
     "name": "stdout",
     "output_type": "stream",
     "text": [
      "{1: 0, 3: 1, 6: 2, 10: 3, 15: 4}\n"
     ]
    }
   ],
   "source": [
    "l=[1,2,3,4,5]\n",
    "d={}\n",
    "count=0\n",
    "for i in range(len(l)):\n",
    "    sum=0\n",
    "    for j in range(i+1):\n",
    "        sum=sum+l[j]\n",
    "        if sum not in d:\n",
    "            d[sum]=d.get(sum,count)\n",
    "            count+=1\n",
    "            \n",
    "print(d)"
   ]
  },
  {
   "cell_type": "code",
   "execution_count": 63,
   "metadata": {},
   "outputs": [
    {
     "name": "stdout",
     "output_type": "stream",
     "text": [
      "0\n",
      "1\n",
      "2\n",
      "3\n",
      "0\n",
      "1\n",
      "3\n",
      "2\n",
      "8\n",
      "{6: 0, 9: 1, 8: 2, 10: 3, 28: 8}\n",
      "5\n"
     ]
    }
   ],
   "source": [
    "l=[6,3,-1,2,-4,3,1,-2,20]\n",
    "d={}\n",
    "sum=0\n",
    "maxlength=0\n",
    "for i in range(len(l)):\n",
    "    sum=sum+l[i]\n",
    "    if l[i]==0 and maxlength== 0:\n",
    "        maxlength=1\n",
    "    if sum not in d:\n",
    "        d[sum]=i\n",
    "    else:\n",
    "        maxlength=max(maxlength,i-d[sum])\n",
    "    print(d[sum])\n",
    "print(d)\n",
    "print(maxlength)"
   ]
  },
  {
   "cell_type": "code",
   "execution_count": 64,
   "metadata": {},
   "outputs": [
    {
     "data": {
      "text/plain": [
       "6"
      ]
     },
     "execution_count": 64,
     "metadata": {},
     "output_type": "execute_result"
    }
   ],
   "source": []
  }
 ],
 "metadata": {
  "kernelspec": {
   "display_name": "Python 3",
   "language": "python",
   "name": "python3"
  },
  "language_info": {
   "codemirror_mode": {
    "name": "ipython",
    "version": 3
   },
   "file_extension": ".py",
   "mimetype": "text/x-python",
   "name": "python",
   "nbconvert_exporter": "python",
   "pygments_lexer": "ipython3",
   "version": "3.8.3"
  }
 },
 "nbformat": 4,
 "nbformat_minor": 4
}
