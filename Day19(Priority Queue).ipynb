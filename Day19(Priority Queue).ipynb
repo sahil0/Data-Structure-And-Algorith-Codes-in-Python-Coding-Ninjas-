{
 "cells": [
  {
   "cell_type": "raw",
   "metadata": {},
   "source": [
    "An operator delete(i) for a binary heap data structure is to be designed to delete the item in the i-th node. Assume that the heap is implemented in an array and i refers to the i-th index of the array. If the heap tree has depth d (number of edges on the path from the root to the farthest leaf), then what is the time complexity to re-fix the heap efficiently after the removal of the element?\n",
    "\n",
    "ANS:O(d) but not O(1)"
   ]
  },
  {
   "cell_type": "code",
   "execution_count": 15,
   "metadata": {},
   "outputs": [
    {
     "name": "stdout",
     "output_type": "stream",
     "text": [
      "D\n",
      "B\n",
      "A\n",
      "C\n",
      "E\n"
     ]
    }
   ],
   "source": [
    "class PriorityQueueNode:\n",
    "    def __init__(self,value,priority):\n",
    "        self.value=value\n",
    "        self.priority=priority\n",
    "class PriorityQueue:\n",
    "    def __init__(self):\n",
    "        self.pq=[]\n",
    "    def getSize(self):\n",
    "        return len(self.pq)\n",
    "    def isEmpty(self):\n",
    "        return self.getSize()==0\n",
    "    def getMin(self):\n",
    "        if self.isEmpty() is True:\n",
    "            return None\n",
    "        return self.pq[0].value\n",
    "    def __percolateUp(self):\n",
    "        childIndex=self.getSize()-1\n",
    "        while childIndex>0:\n",
    "            parentIndex=(childIndex-1)//2\n",
    "            if self.pq[childIndex].priority<self.pq[parentIndex].priority:\n",
    "                self.pq[childIndex],self.pq[parentIndex]=self.pq[parentIndex],self.pq[childIndex]\n",
    "                childIndex=parentIndex\n",
    "            else:\n",
    "                break\n",
    "    def insert(self,value,priority):\n",
    "        pqNode=PriorityQueueNode(value,priority)\n",
    "        self.pq.append(pqNode)\n",
    "        self.__percolateUp()\n",
    "    def __percolateDown(self):\n",
    "        parentIndex=0\n",
    "        leftChildIndex=2*parentIndex+1\n",
    "        rightChildIndex=2*parentIndex+2\n",
    "        while leftChildIndex<self.getSize():\n",
    "            minIndex=parentIndex\n",
    "            if self.pq[minIndex].priority>self.pq[leftChildIndex].priority:\n",
    "                minIndex=leftChildIndex\n",
    "            if rightChildIndex<self.getSize() and self.pq[minIndex].priority>self.pq[rightChildIndex].priority:\n",
    "                minIndex=rightChildIndex\n",
    "            if minIndex==parentIndex:\n",
    "                break\n",
    "            self.pq[parentIndex],self.pq[minIndex]=self.pq[minIndex],self.pq[parentIndex]\n",
    "            parentIndex=minIndex\n",
    "            leftChildIndex=2*parentIndex+1\n",
    "            rightChildIndex=2*parentIndex+2\n",
    "    def removeMin(self):\n",
    "        if self.isEmpty():\n",
    "            return None\n",
    "        ele=self.pq[0].value\n",
    "        self.pq[0]=self.pq[self.getSize()-1]\n",
    "        self.pq.pop()\n",
    "        self.__percolateDown()\n",
    "        return ele\n",
    "pq=PriorityQueue()\n",
    "pq.insert('A',10)\n",
    "pq.insert('B',5)\n",
    "pq.insert('C',19)\n",
    "pq.insert('D', 1)\n",
    "pq.insert('E',20)\n",
    "for i in range(5):\n",
    "    print(pq.removeMin())\n"
   ]
  },
  {
   "cell_type": "code",
   "execution_count": 14,
   "metadata": {},
   "outputs": [
    {
     "name": "stdout",
     "output_type": "stream",
     "text": [
      "E\n",
      "C\n",
      "A\n",
      "B\n",
      "D\n"
     ]
    }
   ],
   "source": [
    "class PriorityQueueNode:\n",
    "    def __init__(self,ele,priority):\n",
    "        self.ele=ele\n",
    "        self.priority=priority        \n",
    "class PriorityQueue:\n",
    "    def __init__(self):\n",
    "        self.pq=[]\n",
    "    def isEmpty(self):\n",
    "        return self.getSize()==0\n",
    "    \n",
    "    def getSize(self):\n",
    "        return len(self.pq)\n",
    "\n",
    "    def getMax(self):\n",
    "        if self.isEmpty() is True:\n",
    "            return None\n",
    "        return self.pq[0].ele \n",
    "      \n",
    "    def __percolateUp(self):\n",
    "        childIndex=self.getSize()-1\n",
    "        while childIndex>0:\n",
    "            parentIndex=(childIndex-1)//2\n",
    "            if self.pq[parentIndex].priority<self.pq[childIndex].priority:\n",
    "                self.pq[parentIndex],self.pq[childIndex]=self.pq[childIndex],self.pq[parentIndex]\n",
    "                childIndex=parentIndex\n",
    "            else:\n",
    "                break\n",
    "    def insert(self,ele,priority):\n",
    "        pqNode=PriorityQueueNode(ele,priority)\n",
    "        self.pq.append(pqNode)\n",
    "        self.__percolateUp()\n",
    "    def __percolateDown(self):\n",
    "        parentIndex=0\n",
    "        leftChildIndex=2*parentIndex+1\n",
    "        rightChildIndex=2*parentIndex+2\n",
    "        while leftChildIndex<self.getSize():\n",
    "            maxIndex=parentIndex\n",
    "            if self.pq[maxIndex].priority<self.pq[leftChildIndex].priority:\n",
    "                maxIndex=leftChildIndex\n",
    "            if rightChildIndex<self.getSize() and self.pq[maxIndex].priority<self.pq[rightChildIndex].priority:\n",
    "                maxIndex=rightChildIndex\n",
    "            if maxIndex==parentIndex:\n",
    "                break\n",
    "            self.pq[parentIndex],self.pq[maxIndex]=self.pq[maxIndex],self.pq[parentIndex]\n",
    "            parentIndex=maxIndex\n",
    "            leftChildIndex=2*parentIndex+1\n",
    "            rightChildIndex=2*parentIndex+2\n",
    "    def removeMax(self):\n",
    "        if self.isEmpty() is True:\n",
    "            return None\n",
    "        ele=self.pq[0].ele\n",
    "        self.pq[0]=self.pq[self.getSize()-1]\n",
    "        self.pq.pop()\n",
    "        self.__percolateDown()\n",
    "        return ele\n",
    "pq=PriorityQueue()\n",
    "pq.insert('A',10)\n",
    "pq.insert('B',5)\n",
    "pq.insert('C',19)\n",
    "pq.insert('D', 1)\n",
    "pq.insert('E',20)\n",
    "for i in range(5):\n",
    "    print(pq.removeMax())\n"
   ]
  },
  {
   "cell_type": "code",
   "execution_count": 12,
   "metadata": {},
   "outputs": [
    {
     "name": "stdout",
     "output_type": "stream",
     "text": [
      "2\n",
      "None\n"
     ]
    },
    {
     "ename": "IndexError",
     "evalue": "list index out of range",
     "output_type": "error",
     "traceback": [
      "\u001b[1;31m---------------------------------------------------------------------------\u001b[0m",
      "\u001b[1;31mIndexError\u001b[0m                                Traceback (most recent call last)",
      "\u001b[1;32m<ipython-input-12-30780c7e6951>\u001b[0m in \u001b[0;36m<module>\u001b[1;34m\u001b[0m\n\u001b[0;32m     78\u001b[0m     \u001b[1;32melse\u001b[0m\u001b[1;33m:\u001b[0m\u001b[1;33m\u001b[0m\u001b[1;33m\u001b[0m\u001b[0m\n\u001b[0;32m     79\u001b[0m         \u001b[1;32mpass\u001b[0m\u001b[1;33m\u001b[0m\u001b[1;33m\u001b[0m\u001b[0m\n\u001b[1;32m---> 80\u001b[1;33m     \u001b[0mchoice\u001b[0m \u001b[1;33m=\u001b[0m \u001b[0mcurr_input\u001b[0m\u001b[1;33m[\u001b[0m\u001b[0mi\u001b[0m\u001b[1;33m]\u001b[0m\u001b[1;33m\u001b[0m\u001b[1;33m\u001b[0m\u001b[0m\n\u001b[0m\u001b[0;32m     81\u001b[0m     \u001b[0mi\u001b[0m\u001b[1;33m+=\u001b[0m\u001b[1;36m1\u001b[0m\u001b[1;33m\u001b[0m\u001b[1;33m\u001b[0m\u001b[0m\n\u001b[0;32m     82\u001b[0m \u001b[1;33m\u001b[0m\u001b[0m\n",
      "\u001b[1;31mIndexError\u001b[0m: list index out of range"
     ]
    }
   ],
   "source": [
    "class PriorityQueueNode:\n",
    "    def __init__(self,ele,priority):\n",
    "        self.ele=ele\n",
    "        self.priority=priority        \n",
    "class PriorityQueue:\n",
    "    def __init__(self):\n",
    "        self.pq=[]\n",
    "    def isEmpty(self):\n",
    "        return self.getSize()==0\n",
    "    \n",
    "    def getSize(self):\n",
    "        return len(self.pq)\n",
    "\n",
    "    def getMax(self):\n",
    "        if self.isEmpty() is True:\n",
    "            return None\n",
    "        return self.pq[0].ele \n",
    "      \n",
    "    def __percolateUp(self):\n",
    "        childIndex=self.getSize()-1\n",
    "        while childIndex>0:\n",
    "            parentIndex=(childIndex-1)//2\n",
    "            if self.pq[parentIndex].priority<self.pq[childIndex].priority:\n",
    "                self.pq[parentIndex],self.pq[childIndex]=self.pq[childIndex],self.pq[parentIndex]\n",
    "                childIndex=parentIndex\n",
    "            else:\n",
    "                break\n",
    "    def insert(self,ele,priority):\n",
    "        pqNode=PriorityQueueNode(ele,priority)\n",
    "        self.pq.append(pqNode)\n",
    "        self.__percolateUp()\n",
    "    def __percolateDown(self):\n",
    "        parentIndex=0\n",
    "        leftChildIndex=2*parentIndex+1\n",
    "        rightChildIndex=2*parentIndex+2\n",
    "        while leftChildIndex<self.getSize():\n",
    "            maxIndex=parentIndex\n",
    "            if self.pq[maxIndex].priority<self.pq[leftChildIndex].priority:\n",
    "                maxIndex=leftChildIndex\n",
    "            if rightChildIndex<self.getSize() and self.pq[maxIndex].priority<self.pq[rightChildIndex].priority:\n",
    "                maxIndex=rightChildIndex\n",
    "            if maxIndex==parentIndex:\n",
    "                break\n",
    "            self.pq[parentIndex],self.pq[maxIndex]=self.pq[maxIndex],self.pq[parentIndex]\n",
    "            parentIndex=maxIndex\n",
    "            leftChildIndex=2*parentIndex+1\n",
    "            rightChildIndex=2*parentIndex+2\n",
    "    def removeMax(self):\n",
    "        if self.isEmpty() is True:\n",
    "            return None\n",
    "        ele=self.pq[0].ele\n",
    "        self.pq[0]=self.pq[self.getSize()-1]\n",
    "        self.pq.pop()\n",
    "        self.__percolateDown()\n",
    "        return ele\n",
    "        \n",
    "myPq = PriorityQueue()\n",
    "curr_input = [int(ele) for ele in input().split()]\n",
    "choice = curr_input[0]\n",
    "i=1\n",
    "while choice != -1:\n",
    "    if choice == 1:\n",
    "        element = curr_input[i]\n",
    "        i+=1\n",
    "        myPq.insert(element,element)\n",
    "    elif choice == 2:\n",
    "        print(myPq.getMax())\n",
    "    elif choice == 3:\n",
    "        print(myPq.removeMax())\n",
    "    elif choice == 4:\n",
    "        print(myPq.getSize())\n",
    "    elif choice == 5:\n",
    "        if myPq.isEmpty():\n",
    "            print('true')\n",
    "        else:\n",
    "            print('false')\n",
    "        break\n",
    "    else:\n",
    "        pass\n",
    "    choice = curr_input[i]\n",
    "    i+=1\n",
    "        \n",
    "    "
   ]
  },
  {
   "cell_type": "markdown",
   "metadata": {},
   "source": [
    "# Inplace Heap Sort"
   ]
  },
  {
   "cell_type": "code",
   "execution_count": 5,
   "metadata": {},
   "outputs": [
    {
     "name": "stdout",
     "output_type": "stream",
     "text": [
      "4 7 6 3 9 11 13 \n",
      "3 4 6 7 9 11 13 "
     ]
    }
   ],
   "source": [
    "def down_heapify(arr,i,n):\n",
    "    parentIndex=i\n",
    "    leftChildIndex=2*parentIndex+1\n",
    "    rightChildIndex=2*parentIndex+2\n",
    "    while leftChildIndex<n:\n",
    "        minIndex=parentIndex\n",
    "        if arr[minIndex]>arr[leftChildIndex]:\n",
    "            minIndex=leftChildIndex\n",
    "        if rightChildIndex<n and arr[minIndex]>arr[rightChildIndex]:\n",
    "            minIndex=rightChildIndex\n",
    "        if minIndex==parentIndex:\n",
    "            return\n",
    "        arr[minIndex],arr[parentIndex]=arr[parentIndex],arr[minIndex]\n",
    "        parentIndex=minIndex\n",
    "        leftChildIndex=2*parentIndex+1\n",
    "        rightChildIndex=2*parentIndex+2\n",
    "    return\n",
    "        \n",
    "def heapSort(arr):\n",
    "    n=len(arr)\n",
    "    for i in range(n//2-1,-1,-1):\n",
    "        down_heapify(arr,i,n)\n",
    "    \n",
    "    for i in range(n-1,0,-1):\n",
    "        arr[0],arr[i]=arr[i],arr[0]\n",
    "        down_heapify(arr,0,i)\n",
    "    return \n",
    "        \n",
    "arr=[int(ele) for ele in input().split()]\n",
    "heapSort(arr)\n",
    "for ele in arr[::-1]:\n",
    "    print(ele,end=' ')"
   ]
  },
  {
   "cell_type": "markdown",
   "metadata": {},
   "source": [
    "# Inbuilt Min Heap"
   ]
  },
  {
   "cell_type": "code",
   "execution_count": 8,
   "metadata": {},
   "outputs": [
    {
     "name": "stdout",
     "output_type": "stream",
     "text": [
      "[1, 5, 4, 8, 7, 9, 11]\n"
     ]
    }
   ],
   "source": [
    "import heapq\n",
    "li=[1,5,4,8,7,9,11]\n",
    "heapq.heapify(li)\n",
    "print(li)"
   ]
  },
  {
   "cell_type": "code",
   "execution_count": 9,
   "metadata": {},
   "outputs": [
    {
     "name": "stdout",
     "output_type": "stream",
     "text": [
      "[1, 2, 4, 5, 7, 9, 11, 8]\n"
     ]
    }
   ],
   "source": [
    "heapq.heappush(li,2)\n",
    "print(li)"
   ]
  },
  {
   "cell_type": "code",
   "execution_count": 10,
   "metadata": {},
   "outputs": [
    {
     "name": "stdout",
     "output_type": "stream",
     "text": [
      "1\n",
      "[2, 5, 4, 8, 7, 9, 11]\n"
     ]
    }
   ],
   "source": [
    "print(heapq.heappop(li))\n",
    "print(li)"
   ]
  },
  {
   "cell_type": "code",
   "execution_count": 11,
   "metadata": {},
   "outputs": [
    {
     "name": "stdout",
     "output_type": "stream",
     "text": [
      "[4, 5, 6, 8, 7, 9, 11]\n"
     ]
    }
   ],
   "source": [
    "heapq.heapreplace(li,6)\n",
    "print(li)"
   ]
  },
  {
   "cell_type": "code",
   "execution_count": 12,
   "metadata": {},
   "outputs": [
    {
     "data": {
      "text/plain": [
       "4"
      ]
     },
     "execution_count": 12,
     "metadata": {},
     "output_type": "execute_result"
    }
   ],
   "source": [
    "heapq.heapreplace(li,10)\n"
   ]
  },
  {
   "cell_type": "code",
   "execution_count": 13,
   "metadata": {},
   "outputs": [
    {
     "name": "stdout",
     "output_type": "stream",
     "text": [
      "[5, 7, 6, 8, 10, 9, 11]\n"
     ]
    }
   ],
   "source": [
    "print(li)"
   ]
  },
  {
   "cell_type": "markdown",
   "metadata": {},
   "source": [
    "# Inbuilt Max Heap"
   ]
  },
  {
   "cell_type": "code",
   "execution_count": 78,
   "metadata": {},
   "outputs": [],
   "source": [
    "import heapq\n",
    "li=[2,6,10,11,13,4,1,20]\n",
    "pq=li\n",
    "heapq._heapify_max(pq)\n"
   ]
  },
  {
   "cell_type": "code",
   "execution_count": 79,
   "metadata": {},
   "outputs": [
    {
     "name": "stdout",
     "output_type": "stream",
     "text": [
      "[20, 13, 10, 11, 2, 4, 1, 6]\n"
     ]
    }
   ],
   "source": [
    "print(pq)"
   ]
  },
  {
   "cell_type": "code",
   "execution_count": 48,
   "metadata": {},
   "outputs": [
    {
     "name": "stdout",
     "output_type": "stream",
     "text": [
      "20\n"
     ]
    }
   ],
   "source": [
    "print(heapq._heappop_max(li))"
   ]
  },
  {
   "cell_type": "code",
   "execution_count": 49,
   "metadata": {},
   "outputs": [
    {
     "name": "stdout",
     "output_type": "stream",
     "text": [
      "[13, 11, 10, 6, 2, 4, 1]\n"
     ]
    }
   ],
   "source": [
    "print(li)"
   ]
  },
  {
   "cell_type": "code",
   "execution_count": 6,
   "metadata": {},
   "outputs": [
    {
     "name": "stdout",
     "output_type": "stream",
     "text": [
      "[7, 5, 4, 3, 0, 1, 2]\n"
     ]
    }
   ],
   "source": [
    "heapq._heapreplace_max(li,0)\n",
    "print(li)"
   ]
  },
  {
   "cell_type": "code",
   "execution_count": 7,
   "metadata": {},
   "outputs": [
    {
     "name": "stdout",
     "output_type": "stream",
     "text": [
      "[7, 6, 4, 5, 0, 1, 2, 3]\n"
     ]
    }
   ],
   "source": [
    "li.append(6)\n",
    "heapq._siftdown_max(li,0,len(li)-1)\n",
    "print(li)"
   ]
  },
  {
   "cell_type": "markdown",
   "metadata": {},
   "source": [
    "# KSmallest "
   ]
  },
  {
   "cell_type": "code",
   "execution_count": 17,
   "metadata": {},
   "outputs": [
    {
     "name": "stdout",
     "output_type": "stream",
     "text": [
      "6 2 3 1 "
     ]
    }
   ],
   "source": [
    "import heapq\n",
    "def kSmallest(arr,k):\n",
    "    heap=arr[:k]\n",
    "    heapq._heapify_max(heap)\n",
    "    n=len(arr)\n",
    "    for i in range(k,n):\n",
    "        if heap[0]>arr[i]:\n",
    "            heapq._heapreplace_max(heap,arr[i])\n",
    "    return heap\n",
    "arr=[10,6,7,2,3,8,9,11,1]\n",
    "k=4\n",
    "element=kSmallest(arr,4)\n",
    "for ele in element:\n",
    "    print(ele,end=' ')"
   ]
  },
  {
   "cell_type": "markdown",
   "metadata": {},
   "source": [
    "# K Largest Elements\n"
   ]
  },
  {
   "cell_type": "raw",
   "metadata": {},
   "source": [
    "ou are given with an integer k and an array of integers that contain numbers in random order. Write a program to find k largest numbers from given array. You need to save them in an array and return it.\n",
    "Time complexity should be O(nlogk) and space complexity should be not more than O(k).\n",
    "Order of elements in the output is not important.\n",
    "Input Format :\n",
    "Line 1 : Size of array (n)\n",
    "Line 2 : Array elements (separated by space)\n",
    "Line 3 : Integer k\n",
    "Output Format :\n",
    "k largest elements\n",
    "Sample Input :\n",
    "13\n",
    "2 12 9 16 10 5 3 20 25 11 1 8 6 \n",
    "4\n",
    "Sample Output :\n",
    "12\n",
    "16\n",
    "20\n",
    "25"
   ]
  },
  {
   "cell_type": "code",
   "execution_count": 1,
   "metadata": {},
   "outputs": [
    {
     "name": "stdout",
     "output_type": "stream",
     "text": [
      "2 12 9 16 10 5 3 20 25 11 1 8 6 \n",
      "4\n",
      "12\n",
      "16\n",
      "20\n",
      "25\n"
     ]
    }
   ],
   "source": [
    "import heapq\n",
    "def kLargest(arr,k):\n",
    "    heap=arr[:k]\n",
    "    heapq.heapify(heap)\n",
    "    n=len(arr)\n",
    "    for i in range(k,n):\n",
    "        if heap[0]<arr[i]:\n",
    "            heapq.heapreplace(heap,arr[i])\n",
    "    return heap\n",
    "arr=[int(i) for i in input().split()]    \n",
    "k=int(input())\n",
    "element=kLargest(arr,k)\n",
    "for ele in element:\n",
    "    print(ele)"
   ]
  },
  {
   "cell_type": "markdown",
   "metadata": {},
   "source": [
    "# Check Max-Heap\n"
   ]
  },
  {
   "cell_type": "raw",
   "metadata": {},
   "source": [
    "Given an array of integers, check whether it represents max-heap or not.\n",
    "Return true or false.\n",
    "Input Format :\n",
    "Line 1 : An integer N i.e. size of the array\n",
    "Line 2 : N integers which are elements of the array, separated by spaces\n",
    "Output Format :\n",
    "true if it represents max-heap and false if it is not a max-heap\n",
    "Constraints :\n",
    "1 <= N <= 10^5\n",
    "1 <= Ai <= 10^5\n",
    "Sample Input :\n",
    "8\n",
    "42 20 18 6 14 11 9 4\n",
    "Sample Output :\n",
    "true"
   ]
  },
  {
   "cell_type": "code",
   "execution_count": 45,
   "metadata": {},
   "outputs": [
    {
     "name": "stdout",
     "output_type": "stream",
     "text": [
      "10\n",
      "98404 77913 46653 55811 70118 44019 9465 18138 11969 90209 \n",
      "false\n"
     ]
    }
   ],
   "source": [
    "import heapq\n",
    "def checkMaxHeap(lst):\n",
    "    p=0\n",
    "    left=2*p+1\n",
    "    right=2*p+2\n",
    "    while left<len(lst):\n",
    "        if lst[p]<lst[left]:\n",
    "            return False\n",
    "        elif right<len(lst) and lst[p]<lst[right]:\n",
    "            return False\n",
    "        p=p+1\n",
    "        left=2*p+1\n",
    "        right=2*p+2\n",
    "    return True\n",
    "    \n",
    "n=int(input())\n",
    "lst=list(int(i) for i in input().strip().split(' '))\n",
    "print('true') if checkMaxHeap(lst) else print('false')\n"
   ]
  },
  {
   "cell_type": "code",
   "execution_count": 46,
   "metadata": {},
   "outputs": [
    {
     "name": "stdout",
     "output_type": "stream",
     "text": [
      "10\n",
      "98404 77913 46653 55811 70118 44019 9465 18138 11969 90209 \n",
      "false\n"
     ]
    }
   ],
   "source": [
    "import heapq\n",
    "def checkMaxHeap(lst):\n",
    "    heap=lst.copy()\n",
    "    heapq._heapify_max(heap)\n",
    "    if heap==lst:\n",
    "        return True\n",
    "    return False\n",
    "n=int(input())\n",
    "lst=list(int(i) for i in input().strip().split(' '))\n",
    "print('true') if checkMaxHeap(lst) else print('false')\n"
   ]
  },
  {
   "cell_type": "markdown",
   "metadata": {},
   "source": [
    "# Kth largest element\n"
   ]
  },
  {
   "cell_type": "raw",
   "metadata": {},
   "source": [
    "Given an array A of random integers and an integer k, find and return the kth largest element in the array.\n",
    "Try to do this question in less than O(nlogn) time.\n",
    "Input Format :\n",
    "Line 1 : An integer N i.e. size of the array\n",
    "Line 2 : N integers which are elements of the array, separated by spaces\n",
    "Line 3 : An integer k\n",
    "Output Format :\n",
    "kth largest element\n",
    "Input Constraints :\n",
    "1 <= N, Ai, k <= 10^5\n",
    "Sample Input 1 :\n",
    "6\n",
    "9 4 8 7 11 3\n",
    "2\n",
    "Sample Output 1 :\n",
    "9\n",
    "Sample Input 2 :\n",
    "8\n",
    "2 6 10 11 13 4 1 20\n",
    "4\n",
    "Sample Output 2 :\n",
    "10"
   ]
  },
  {
   "cell_type": "code",
   "execution_count": 58,
   "metadata": {},
   "outputs": [
    {
     "name": "stdout",
     "output_type": "stream",
     "text": [
      "8\n",
      "2 6 10 11 13 4 1 20\n",
      "4\n",
      "10\n"
     ]
    }
   ],
   "source": [
    "import heapq\n",
    "def kthLargest(lst, k):\n",
    "    heapq._heapify_max(lst)\n",
    "    while k>0:\n",
    "        kth_element=heapq._heappop_max(lst)\n",
    "        k-=1\n",
    "    return kth_element\n",
    "# Main Code\n",
    "n=int(input())\n",
    "lst=list(int(i) for i in input().strip().split(' '))\n",
    "k=int(input())\n",
    "ans=kthLargest(lst, k)\n",
    "print(ans)"
   ]
  },
  {
   "cell_type": "code",
   "execution_count": 59,
   "metadata": {},
   "outputs": [
    {
     "name": "stdout",
     "output_type": "stream",
     "text": [
      "8\n",
      "2 6 10 11 13 4 1 20\n",
      "4\n",
      "10\n"
     ]
    }
   ],
   "source": [
    "import heapq\n",
    "def kthLargest(lst, k):\n",
    "    heap=lst[:k]\n",
    "    heapq.heapify(heap)\n",
    "    for i in range(k,len(lst)):\n",
    "        if (heap[0]<lst[i]):\n",
    "            heapq.heapreplace(heap,lst[i])\n",
    "    return heap[0]\n",
    "\n",
    "# Main Code\n",
    "n=int(input())\n",
    "lst=list(int(i) for i in input().strip().split(' '))\n",
    "k=int(input())\n",
    "ans=kthLargest(lst, k)\n",
    "print(ans)"
   ]
  },
  {
   "cell_type": "markdown",
   "metadata": {},
   "source": [
    "# Buy the ticket\n"
   ]
  },
  {
   "cell_type": "raw",
   "metadata": {},
   "source": [
    "You want to buy a ticket for a well-known concert which is happening in your city. But the number of tickets available is limited. Hence the sponsors of the concert decided to sell tickets to customers based on some priority.\n",
    "A queue is maintained for buying the tickets and every person has attached with a priority (an integer, 1 being the lowest priority). The tickets are sold in the following manner -\n",
    "1. The first person (pi) in the queue asked to comes out.\n",
    "2. If there is another person present in the queue who has higher priority than pi, then ask pi to move at end of the queue without giving him the ticket.\n",
    "3. Otherwise, give him the ticket (and don't make him stand in queue again).\n",
    "Giving a ticket to a person takes exactly 1 minutes and it takes no time for removing and adding a person to the queue. And you can assume that no new person joins the queue.\n",
    "Given a list of priorities of N persons standing in the queue and the index of your priority (indexing starts from 0). Find and return the time it will take until you get the ticket.\n",
    "Input Format :\n",
    "Line 1 : Integer N (Total number of people standing in queue)\n",
    "Line 2 : Priorities of every person (n space separated integers)\n",
    "Line 3 : Integer k (index of your priority)\n",
    "Output Format :\n",
    "Time required\n",
    "Sample Input 1 :\n",
    "3\n",
    "3 9 4\n",
    "2\n",
    "Sample Output 1 :\n",
    "2\n",
    "Sample Output 1 Explanation :\n",
    "Person with priority 3 comes out. But there is a person with higher priority than him. So he goes and then stands in the queue at the end. Queue's status : {9, 4, 3}. Time : 0 secs.\n",
    "Next, the person with priority 9 comes out. And there is no person with higher priority than him. So he'll get the ticket. Queue's status : {4, 3}. Time : 1 secs.\n",
    "Next, the person with priority 4 comes out (which is you). And there is no person with higher priority than you. So you'll get the ticket. Time : 2 secs.\n",
    "Sample Input 2 :\n",
    "5\n",
    "2 3 2 2 4\n",
    "3\n",
    "Sample Output 2 :\n",
    "4\n"
   ]
  },
  {
   "cell_type": "code",
   "execution_count": 87,
   "metadata": {},
   "outputs": [
    {
     "ename": "ValueError",
     "evalue": "invalid literal for int() with base 10: ''",
     "output_type": "error",
     "traceback": [
      "\u001b[1;31m---------------------------------------------------------------------------\u001b[0m",
      "\u001b[1;31mValueError\u001b[0m                                Traceback (most recent call last)",
      "\u001b[1;32m<ipython-input-87-2431055a1025>\u001b[0m in \u001b[0;36m<module>\u001b[1;34m\u001b[0m\n\u001b[0;32m     80\u001b[0m \u001b[1;33m\u001b[0m\u001b[0m\n\u001b[0;32m     81\u001b[0m \u001b[1;31m#main\u001b[0m\u001b[1;33m\u001b[0m\u001b[1;33m\u001b[0m\u001b[1;33m\u001b[0m\u001b[0m\n\u001b[1;32m---> 82\u001b[1;33m \u001b[0mn\u001b[0m\u001b[1;33m,\u001b[0m \u001b[0marr\u001b[0m\u001b[1;33m,\u001b[0m \u001b[0mk\u001b[0m \u001b[1;33m=\u001b[0m \u001b[0mtakeInput\u001b[0m\u001b[1;33m(\u001b[0m\u001b[1;33m)\u001b[0m\u001b[1;33m\u001b[0m\u001b[1;33m\u001b[0m\u001b[0m\n\u001b[0m\u001b[0;32m     83\u001b[0m \u001b[0mprint\u001b[0m\u001b[1;33m(\u001b[0m\u001b[0mbuyTicket\u001b[0m\u001b[1;33m(\u001b[0m\u001b[0marr\u001b[0m\u001b[1;33m,\u001b[0m \u001b[0mn\u001b[0m\u001b[1;33m,\u001b[0m \u001b[0mk\u001b[0m\u001b[1;33m)\u001b[0m\u001b[1;33m)\u001b[0m\u001b[1;33m\u001b[0m\u001b[1;33m\u001b[0m\u001b[0m\n",
      "\u001b[1;32m<ipython-input-87-2431055a1025>\u001b[0m in \u001b[0;36mtakeInput\u001b[1;34m()\u001b[0m\n\u001b[0;32m     67\u001b[0m \u001b[1;32mdef\u001b[0m \u001b[0mtakeInput\u001b[0m\u001b[1;33m(\u001b[0m\u001b[1;33m)\u001b[0m \u001b[1;33m:\u001b[0m\u001b[1;33m\u001b[0m\u001b[1;33m\u001b[0m\u001b[0m\n\u001b[0;32m     68\u001b[0m \u001b[1;33m\u001b[0m\u001b[0m\n\u001b[1;32m---> 69\u001b[1;33m     \u001b[0mn\u001b[0m \u001b[1;33m=\u001b[0m \u001b[0mint\u001b[0m\u001b[1;33m(\u001b[0m\u001b[0mstdin\u001b[0m\u001b[1;33m.\u001b[0m\u001b[0mreadline\u001b[0m\u001b[1;33m(\u001b[0m\u001b[1;33m)\u001b[0m\u001b[1;33m.\u001b[0m\u001b[0mstrip\u001b[0m\u001b[1;33m(\u001b[0m\u001b[1;33m)\u001b[0m\u001b[1;33m)\u001b[0m\u001b[1;33m\u001b[0m\u001b[1;33m\u001b[0m\u001b[0m\n\u001b[0m\u001b[0;32m     70\u001b[0m \u001b[1;33m\u001b[0m\u001b[0m\n\u001b[0;32m     71\u001b[0m     \u001b[1;32mif\u001b[0m \u001b[0mn\u001b[0m \u001b[1;33m==\u001b[0m \u001b[1;36m0\u001b[0m \u001b[1;33m:\u001b[0m\u001b[1;33m\u001b[0m\u001b[1;33m\u001b[0m\u001b[0m\n",
      "\u001b[1;31mValueError\u001b[0m: invalid literal for int() with base 10: ''"
     ]
    }
   ],
   "source": [
    "from sys import stdin\n",
    "import heapq as heap\n",
    "class LinkedListNode:\n",
    "    def __init__(self,data):\n",
    "        self.data=data\n",
    "        self.next=None\n",
    "class Queue:\n",
    "    def __init__(self):\n",
    "        self.head=None\n",
    "        self.tail=None\n",
    "        self.size=0\n",
    "    def enqueue(self,data):\n",
    "        newNode=LinkedListNode(data)\n",
    "        if self.head is None:\n",
    "            self.head=self.tail=newNode\n",
    "        else:\n",
    "            self.tail.next=newNode\n",
    "            self.tail=newNode\n",
    "        self.size+=1\n",
    "        return \n",
    "    def dequeue(self):\n",
    "        if self.head is None:\n",
    "            return None\n",
    "        data =self.head.data\n",
    "        self.head=self.head.next\n",
    "        self.size-=1\n",
    "        return data\n",
    "    def getSize(self):\n",
    "        return self.size\n",
    "    def isEmpty(self):\n",
    "        if self.head is None:\n",
    "            return True\n",
    "        return False\n",
    "    def peek(self):\n",
    "        if self.head is None:\n",
    "            return None\n",
    "        return self.head.data\n",
    "def buyTicket(arr,n,k):\n",
    "    q=Queue()\n",
    "    maxHeap=[]\n",
    "    heap.heapify(maxHeap)\n",
    "    for element in arr:\n",
    "        q.enqueue(element)\n",
    "        heap.heappush(maxHeap,-1*element)\n",
    "    count=0\n",
    "    while len(maxHeap)!=0:\n",
    "        if q.peek()==-1*maxHeap[0]:\n",
    "            if k==0:\n",
    "                return count+1\n",
    "            else:\n",
    "                count+=1\n",
    "                q.dequeue()\n",
    "                heap.heappop(maxHeap)\n",
    "                k-=1\n",
    "        else:\n",
    "            q.enqueue(q.peek())\n",
    "            q.dequeue()\n",
    "            if k ==0:\n",
    "                k=q.getSize()-1\n",
    "            else:\n",
    "                k-=1\n",
    "    return count\n",
    "\n",
    "#taking input using fast I/O\n",
    "def takeInput() :\n",
    "    \n",
    "    n = int(stdin.readline().strip())\n",
    "    \n",
    "    if n == 0 :\n",
    "        return n, list(), int(stdin.readline().strip())\n",
    "    \n",
    "    arr = list(map(int, stdin.readline().strip().split(\" \")))\n",
    "    \n",
    "    k = int(stdin.readline().strip())\n",
    "    \n",
    "    return n, arr, k\n",
    "\n",
    "\n",
    "#main\n",
    "n, arr, k = takeInput()\n",
    "print(buyTicket(arr, n, k))\n"
   ]
  },
  {
   "cell_type": "code",
   "execution_count": 85,
   "metadata": {},
   "outputs": [
    {
     "name": "stdout",
     "output_type": "stream",
     "text": [
      "5\n",
      "2 3 2 2 4\n",
      "3\n"
     ]
    },
    {
     "ename": "IndexError",
     "evalue": "pop index out of range",
     "output_type": "error",
     "traceback": [
      "\u001b[1;31m---------------------------------------------------------------------------\u001b[0m",
      "\u001b[1;31mIndexError\u001b[0m                                Traceback (most recent call last)",
      "\u001b[1;32m<ipython-input-85-a6c881fff415>\u001b[0m in \u001b[0;36m<module>\u001b[1;34m\u001b[0m\n\u001b[0;32m     25\u001b[0m \u001b[0marr\u001b[0m\u001b[1;33m=\u001b[0m\u001b[0mlist\u001b[0m\u001b[1;33m(\u001b[0m\u001b[0mint\u001b[0m\u001b[1;33m(\u001b[0m\u001b[0mi\u001b[0m\u001b[1;33m)\u001b[0m \u001b[1;32mfor\u001b[0m \u001b[0mi\u001b[0m \u001b[1;32min\u001b[0m \u001b[0minput\u001b[0m\u001b[1;33m(\u001b[0m\u001b[1;33m)\u001b[0m\u001b[1;33m.\u001b[0m\u001b[0mstrip\u001b[0m\u001b[1;33m(\u001b[0m\u001b[1;33m)\u001b[0m\u001b[1;33m.\u001b[0m\u001b[0msplit\u001b[0m\u001b[1;33m(\u001b[0m\u001b[1;34m' '\u001b[0m\u001b[1;33m)\u001b[0m\u001b[1;33m)\u001b[0m\u001b[1;33m\u001b[0m\u001b[1;33m\u001b[0m\u001b[0m\n\u001b[0;32m     26\u001b[0m \u001b[0mk\u001b[0m\u001b[1;33m=\u001b[0m\u001b[0mint\u001b[0m\u001b[1;33m(\u001b[0m\u001b[0minput\u001b[0m\u001b[1;33m(\u001b[0m\u001b[1;33m)\u001b[0m\u001b[1;33m)\u001b[0m\u001b[1;33m\u001b[0m\u001b[1;33m\u001b[0m\u001b[0m\n\u001b[1;32m---> 27\u001b[1;33m \u001b[0mans\u001b[0m\u001b[1;33m=\u001b[0m\u001b[0mbuyTicket\u001b[0m\u001b[1;33m(\u001b[0m\u001b[0marr\u001b[0m\u001b[1;33m,\u001b[0m \u001b[0mn\u001b[0m\u001b[1;33m,\u001b[0m \u001b[0mk\u001b[0m\u001b[1;33m)\u001b[0m\u001b[1;33m\u001b[0m\u001b[1;33m\u001b[0m\u001b[0m\n\u001b[0m\u001b[0;32m     28\u001b[0m \u001b[0mprint\u001b[0m\u001b[1;33m(\u001b[0m\u001b[0mans\u001b[0m\u001b[1;33m)\u001b[0m\u001b[1;33m\u001b[0m\u001b[1;33m\u001b[0m\u001b[0m\n",
      "\u001b[1;32m<ipython-input-85-a6c881fff415>\u001b[0m in \u001b[0;36mbuyTicket\u001b[1;34m(arr, n, k)\u001b[0m\n\u001b[0;32m     14\u001b[0m             \u001b[1;32melif\u001b[0m \u001b[0mlen\u001b[0m\u001b[1;33m(\u001b[0m\u001b[0mq\u001b[0m\u001b[1;33m)\u001b[0m\u001b[1;33m!=\u001b[0m\u001b[1;36m0\u001b[0m \u001b[1;32mand\u001b[0m \u001b[0mele_max\u001b[0m\u001b[1;33m!=\u001b[0m\u001b[0marr\u001b[0m\u001b[1;33m[\u001b[0m\u001b[0mi\u001b[0m\u001b[1;33m]\u001b[0m\u001b[1;33m:\u001b[0m\u001b[1;33m\u001b[0m\u001b[1;33m\u001b[0m\u001b[0m\n\u001b[0;32m     15\u001b[0m                 \u001b[0mq\u001b[0m\u001b[1;33m.\u001b[0m\u001b[0mappend\u001b[0m\u001b[1;33m(\u001b[0m\u001b[0mi\u001b[0m\u001b[1;33m)\u001b[0m\u001b[1;33m\u001b[0m\u001b[1;33m\u001b[0m\u001b[0m\n\u001b[1;32m---> 16\u001b[1;33m                 \u001b[0mq\u001b[0m\u001b[1;33m.\u001b[0m\u001b[0mpop\u001b[0m\u001b[1;33m(\u001b[0m\u001b[0mi\u001b[0m\u001b[1;33m)\u001b[0m\u001b[1;33m\u001b[0m\u001b[1;33m\u001b[0m\u001b[0m\n\u001b[0m\u001b[0;32m     17\u001b[0m             \u001b[1;32melif\u001b[0m \u001b[0mele_max\u001b[0m\u001b[1;33m==\u001b[0m\u001b[0marr\u001b[0m\u001b[1;33m[\u001b[0m\u001b[0mi\u001b[0m\u001b[1;33m]\u001b[0m \u001b[1;32mand\u001b[0m \u001b[1;33m(\u001b[0m\u001b[0mi\u001b[0m\u001b[1;33m!=\u001b[0m\u001b[0mk\u001b[0m \u001b[1;32mor\u001b[0m \u001b[0mq\u001b[0m\u001b[1;33m[\u001b[0m\u001b[1;36m0\u001b[0m\u001b[1;33m]\u001b[0m\u001b[1;33m!=\u001b[0m\u001b[0mk\u001b[0m\u001b[1;33m)\u001b[0m\u001b[1;33m:\u001b[0m\u001b[1;33m\u001b[0m\u001b[1;33m\u001b[0m\u001b[0m\n\u001b[0;32m     18\u001b[0m                 \u001b[0mtime\u001b[0m\u001b[1;33m+=\u001b[0m\u001b[1;36m1\u001b[0m\u001b[1;33m\u001b[0m\u001b[1;33m\u001b[0m\u001b[0m\n",
      "\u001b[1;31mIndexError\u001b[0m: pop index out of range"
     ]
    }
   ],
   "source": [
    "import heapq\n",
    "\n",
    "def time_required(lst, k):\n",
    "    q=lst[k]\n",
    "    heapq._heapify_max(lst)\n",
    "    time=0\n",
    "    while True:\n",
    "        ele_max = heapq._heappop_max(lst)\n",
    "        time+=1\n",
    "        if ele_max==q:\n",
    "            return time+1\n",
    "\n",
    "n=int(input())\n",
    "lst=list(int(i) for i in input().strip().split(' '))\n",
    "k=int(input())\n",
    "ans=time_required(lst, k)\n",
    "print(ans)"
   ]
  },
  {
   "cell_type": "code",
   "execution_count": 88,
   "metadata": {},
   "outputs": [
    {
     "name": "stdout",
     "output_type": "stream",
     "text": [
      "5\n",
      "2 3 2 2 4\n",
      "3\n",
      "4\n"
     ]
    }
   ],
   "source": [
    "import heapq\n",
    "\n",
    "def time_required(lst, k):\n",
    "    q=lst[k]\n",
    "    heapq._heapify_max(lst)\n",
    "    time=0\n",
    "    while True:\n",
    "        ele_max = heapq._heappop_max(lst)\n",
    "        time+=1\n",
    "        if ele_max==q:\n",
    "            return time+1\n",
    "\n",
    "n=int(input())\n",
    "lst=list(int(i) for i in input().strip().split(' '))\n",
    "k=int(input())\n",
    "ans=time_required(lst, k)\n",
    "print(ans)"
   ]
  },
  {
   "cell_type": "code",
   "execution_count": 81,
   "metadata": {},
   "outputs": [
    {
     "name": "stdout",
     "output_type": "stream",
     "text": [
      "[3, 2, 2, 4, 0]\n"
     ]
    }
   ],
   "source": [
    "n = len(lst)\n",
    "    time = 1\n",
    "    for i in range(0,n):\n",
    "        if lst[i] > lst[index]:\n",
    "            time += 1\n",
    "    return time"
   ]
  }
 ],
 "metadata": {
  "kernelspec": {
   "display_name": "Python 3",
   "language": "python",
   "name": "python3"
  },
  "language_info": {
   "codemirror_mode": {
    "name": "ipython",
    "version": 3
   },
   "file_extension": ".py",
   "mimetype": "text/x-python",
   "name": "python",
   "nbconvert_exporter": "python",
   "pygments_lexer": "ipython3",
   "version": "3.8.3"
  }
 },
 "nbformat": 4,
 "nbformat_minor": 4
}
